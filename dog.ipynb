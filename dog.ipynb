{
  "nbformat": 4,
  "nbformat_minor": 0,
  "metadata": {
    "colab": {
      "name": "dog.ipynb",
      "provenance": []
    },
    "kernelspec": {
      "name": "python3",
      "display_name": "Python 3"
    }
  },
  "cells": [
    {
      "cell_type": "code",
      "metadata": {
        "id": "S554uJPpNlwc"
      },
      "source": [
        "import numpy as np\n",
        "import tensorflow as tf\n",
        "from tensorflow.python.client import device_lib\n",
        "from sklearn.datasets import load_files\n",
        "from keras.utils import to_categorical\n",
        "from __future__ import absolute_import\n",
        "from keras.applications.resnet50 import ResNet50, preprocess_input\n",
        "from keras.preprocessing.image import load_img, img_to_array, array_to_img, ImageDataGenerator\n",
        "from glob import *\n",
        "from tqdm import tqdm\n",
        "from keras.preprocessing import image\n",
        "from keras.layers import Conv2D, MaxPooling2D, GlobalAveragePooling2D\n",
        "from keras.layers import Dropout, Flatten, Dense\n",
        "from keras.models import Sequential\n",
        "from keras.callbacks import ModelCheckpoint\n",
        "import cv2\n",
        "import matplotlib.pyplot as plt\n",
        "from keras.models import load_model\n",
        "from tensorflow.keras.models import clone_model\n",
        "from tensorflow.keras import layers\n",
        "from tensorflow.keras import regularizers\n",
        "from keras.applications.xception import Xception, preprocess_input\n",
        "from keras.callbacks import History\n",
        "from PIL import ImageFile\n",
        "ImageFile.LOAD_TRUNCATED_IMAGES = True\n",
        "from sklearn.metrics import classification_report\n",
        "from keras.utils.vis_utils import plot_model"
      ],
      "execution_count": 1,
      "outputs": []
    },
    {
      "cell_type": "code",
      "metadata": {
        "id": "XB_D9jL-Svm6",
        "outputId": "fe0b3e6c-7404-4959-9716-a5bf89cf981f",
        "colab": {
          "base_uri": "https://localhost:8080/"
        }
      },
      "source": [
        "from google.colab import drive\n",
        "drive.mount(\"/content/drive\")"
      ],
      "execution_count": 7,
      "outputs": [
        {
          "output_type": "stream",
          "text": [
            "Mounted at /content/drive\n"
          ],
          "name": "stdout"
        }
      ]
    },
    {
      "cell_type": "code",
      "metadata": {
        "id": "g78MveGENTab"
      },
      "source": [
        "def load_dataset(path):\n",
        "    data = load_files(path)\n",
        "    dog_files = np.array(data['filenames'])\n",
        "    dog_targets = tf.keras.utils.to_categorical(np.array(data['target']))\n",
        "    return dog_files, dog_targets\n",
        "train_files, train_targets = load_dataset('/content/drive/My Drive/dogImages/train')\n",
        "valid_files, valid_targets = load_dataset('/content/drive/My Drive/dogImages/valid')\n",
        "test_files, test_targets = load_dataset('/content/drive/My Drive/dogImages/test')\n",
        "dog_names = [item[20:-1] for item in sorted(glob(\"/content/drive/My Drive/dogImages/train/*/\"))]"
      ],
      "execution_count": 4,
      "outputs": []
    },
    {
      "cell_type": "code",
      "metadata": {
        "id": "8IXHzImZNZIh",
        "outputId": "9bd693c9-2176-42d8-ecdf-254587462808",
        "colab": {
          "base_uri": "https://localhost:8080/"
        }
      },
      "source": [
        "def path_to_tensor(img_path, target_size=(224, 224)):\n",
        "    img = image.load_img(img_path, target_size=target_size)\n",
        "    x = image.img_to_array(img)\n",
        "    return np.expand_dims(x, axis=0)\n",
        "def paths_to_tensor(img_paths, target_size = (224, 224)):\n",
        "    list_of_tensors = [path_to_tensor(img_path, target_size) for img_path in tqdm(img_paths)]\n",
        "    return np.vstack(list_of_tensors)\n",
        "from PIL import ImageFile                            \n",
        "ImageFile.LOAD_TRUNCATED_IMAGES = True\n",
        "train_tensors = paths_to_tensor(train_files).astype('float32')/255\n",
        "valid_tensors = paths_to_tensor(valid_files).astype('float32')/255\n",
        "test_tensors = paths_to_tensor(test_files).astype('float32')/255"
      ],
      "execution_count": 5,
      "outputs": [
        {
          "output_type": "stream",
          "text": [
            "100%|██████████| 6680/6680 [01:08<00:00, 98.13it/s]\n",
            "100%|██████████| 835/835 [00:07<00:00, 105.08it/s]\n",
            "100%|██████████| 836/836 [00:07<00:00, 109.23it/s]\n"
          ],
          "name": "stderr"
        }
      ]
    },
    {
      "cell_type": "code",
      "metadata": {
        "id": "Ktk9b-R9gwsE",
        "outputId": "fff7ef65-77a5-4a50-e129-161a79ff1a10",
        "colab": {
          "base_uri": "https://localhost:8080/"
        }
      },
      "source": [
        "ResNet50_model = ResNet50(weights='imagenet')"
      ],
      "execution_count": 5,
      "outputs": [
        {
          "output_type": "stream",
          "text": [
            "Downloading data from https://storage.googleapis.com/tensorflow/keras-applications/resnet/resnet50_weights_tf_dim_ordering_tf_kernels.h5\n",
            "102973440/102967424 [==============================] - 1s 0us/step\n"
          ],
          "name": "stdout"
        }
      ]
    },
    {
      "cell_type": "code",
      "metadata": {
        "id": "zcht2cJva3rq"
      },
      "source": [
        "def ResNet50_predicts(img_path):\n",
        "  img = preprocess_input(path_to_tensor(img_path))\n",
        "  return np.argmax(ResNet50_model.predict(img))"
      ],
      "execution_count": 8,
      "outputs": []
    },
    {
      "cell_type": "code",
      "metadata": {
        "id": "IDe9jW6kdC_a",
        "outputId": "62b310eb-61f3-4061-d6af-96b809a029bd",
        "colab": {
          "base_uri": "https://localhost:8080/"
        }
      },
      "source": [
        "def dog_detector(img_path):\n",
        "  prediction = ResNet50_predicts(img_path)\n",
        "  return((prediction <= 268)&(prediction >= 151))\n",
        "dog_detector('/content/drive/My Drive/dogImages/train/034.Boxer/Boxer_02360.jpg')"
      ],
      "execution_count": 9,
      "outputs": [
        {
          "output_type": "execute_result",
          "data": {
            "text/plain": [
              "True"
            ]
          },
          "metadata": {
            "tags": []
          },
          "execution_count": 9
        }
      ]
    },
    {
      "cell_type": "code",
      "metadata": {
        "id": "tZlsoVSPlqpv"
      },
      "source": [
        "bottleneck_features =np.load('/content/drive/My Drive/DogResnet50Data.npz')\n",
        "train_Resnet50 = bottleneck_features['train']\n",
        "valid_Resnet50 = bottleneck_features['valid']\n",
        "test_Resnet50 = bottleneck_features['test']"
      ],
      "execution_count": 23,
      "outputs": []
    },
    {
      "cell_type": "code",
      "metadata": {
        "id": "8dNrgNxfixAY",
        "outputId": "a97ad920-68a7-45a5-9a1a-1eed6ecdd7ba",
        "colab": {
          "base_uri": "https://localhost:8080/"
        }
      },
      "source": [
        "Resnet50_model = Sequential()\n",
        "Resnet50_model.add(GlobalAveragePooling2D(input_shape=train_Resnet50.shape[1:]))\n",
        "Resnet50_model.add(Dense(133, activation='softmax'))\n",
        "Resnet50_model.summary()"
      ],
      "execution_count": 24,
      "outputs": [
        {
          "output_type": "stream",
          "text": [
            "Model: \"sequential_4\"\n",
            "_________________________________________________________________\n",
            "Layer (type)                 Output Shape              Param #   \n",
            "=================================================================\n",
            "global_average_pooling2d_2 ( (None, 2048)              0         \n",
            "_________________________________________________________________\n",
            "dense_6 (Dense)              (None, 133)               272517    \n",
            "=================================================================\n",
            "Total params: 272,517\n",
            "Trainable params: 272,517\n",
            "Non-trainable params: 0\n",
            "_________________________________________________________________\n"
          ],
          "name": "stdout"
        }
      ]
    },
    {
      "cell_type": "code",
      "metadata": {
        "id": "W-GYRdm8oZp_",
        "outputId": "197f4f9a-42b8-4095-c305-d509516ecc63",
        "colab": {
          "base_uri": "https://localhost:8080/"
        }
      },
      "source": [
        "Resnet50_model.compile(loss='categorical_crossentropy', optimizer='rmsprop', metrics=['accuracy'])\n",
        "checkpointer = ModelCheckpoint(filepath='/content/drive/My Drive/Resnet50weight.hdf5', verbose=1, save_best_only=True)\n",
        "Resnet50_model.fit(train_Resnet50, train_targets, validation_data=(valid_Resnet50, valid_targets),epochs=20, batch_size=20, callbacks=[checkpointer], verbose=1)\n",
        "Resnet50_model.load_weights('/content/drive/My Drive/Resnet50weight.hdf5')\n",
        "resnet50_predictions = [np.argmax(Resnet50_model.predict(np.expand_dims(feature, axis=0))) for feature in test_Resnet50]\n",
        "test_accuracy = 100*np.sum(np.array(resnet50_predictions)==np.argmax(test_targets, axis=1))/len(resnet50_predictions)\n",
        "print('Test accuracy: %.4f%%' % test_accuracy)"
      ],
      "execution_count": 28,
      "outputs": [
        {
          "output_type": "stream",
          "text": [
            "Epoch 1/20\n",
            "332/334 [============================>.] - ETA: 0s - loss: 0.0064 - accuracy: 0.9982\n",
            "Epoch 00001: val_loss improved from inf to 0.97067, saving model to /content/drive/My Drive/Resnet50weight.hdf5\n",
            "334/334 [==============================] - 1s 4ms/step - loss: 0.0064 - accuracy: 0.9982 - val_loss: 0.9707 - val_accuracy: 0.8311\n",
            "Epoch 2/20\n",
            "325/334 [============================>.] - ETA: 0s - loss: 0.0047 - accuracy: 0.9985\n",
            "Epoch 00002: val_loss improved from 0.97067 to 0.90704, saving model to /content/drive/My Drive/Resnet50weight.hdf5\n",
            "334/334 [==============================] - 1s 4ms/step - loss: 0.0053 - accuracy: 0.9984 - val_loss: 0.9070 - val_accuracy: 0.8251\n",
            "Epoch 3/20\n",
            "331/334 [============================>.] - ETA: 0s - loss: 0.0062 - accuracy: 0.9989\n",
            "Epoch 00003: val_loss did not improve from 0.90704\n",
            "334/334 [==============================] - 1s 4ms/step - loss: 0.0072 - accuracy: 0.9988 - val_loss: 0.9225 - val_accuracy: 0.8323\n",
            "Epoch 4/20\n",
            "325/334 [============================>.] - ETA: 0s - loss: 0.0045 - accuracy: 0.9986\n",
            "Epoch 00004: val_loss did not improve from 0.90704\n",
            "334/334 [==============================] - 1s 4ms/step - loss: 0.0051 - accuracy: 0.9985 - val_loss: 0.9618 - val_accuracy: 0.8299\n",
            "Epoch 5/20\n",
            "329/334 [============================>.] - ETA: 0s - loss: 0.0048 - accuracy: 0.9989\n",
            "Epoch 00005: val_loss did not improve from 0.90704\n",
            "334/334 [==============================] - 1s 4ms/step - loss: 0.0047 - accuracy: 0.9990 - val_loss: 0.9580 - val_accuracy: 0.8443\n",
            "Epoch 6/20\n",
            "322/334 [===========================>..] - ETA: 0s - loss: 0.0054 - accuracy: 0.9984\n",
            "Epoch 00006: val_loss did not improve from 0.90704\n",
            "334/334 [==============================] - 1s 4ms/step - loss: 0.0055 - accuracy: 0.9984 - val_loss: 0.9793 - val_accuracy: 0.8251\n",
            "Epoch 7/20\n",
            "331/334 [============================>.] - ETA: 0s - loss: 0.0050 - accuracy: 0.9986\n",
            "Epoch 00007: val_loss did not improve from 0.90704\n",
            "334/334 [==============================] - 1s 4ms/step - loss: 0.0049 - accuracy: 0.9987 - val_loss: 1.0135 - val_accuracy: 0.8287\n",
            "Epoch 8/20\n",
            "328/334 [============================>.] - ETA: 0s - loss: 0.0046 - accuracy: 0.9986\n",
            "Epoch 00008: val_loss did not improve from 0.90704\n",
            "334/334 [==============================] - 1s 4ms/step - loss: 0.0045 - accuracy: 0.9987 - val_loss: 1.0186 - val_accuracy: 0.8251\n",
            "Epoch 9/20\n",
            "326/334 [============================>.] - ETA: 0s - loss: 0.0050 - accuracy: 0.9983\n",
            "Epoch 00009: val_loss did not improve from 0.90704\n",
            "334/334 [==============================] - 1s 4ms/step - loss: 0.0048 - accuracy: 0.9984 - val_loss: 1.0344 - val_accuracy: 0.8359\n",
            "Epoch 10/20\n",
            "330/334 [============================>.] - ETA: 0s - loss: 0.0051 - accuracy: 0.9986\n",
            "Epoch 00010: val_loss did not improve from 0.90704\n",
            "334/334 [==============================] - 1s 4ms/step - loss: 0.0050 - accuracy: 0.9987 - val_loss: 1.0778 - val_accuracy: 0.8240\n",
            "Epoch 11/20\n",
            "325/334 [============================>.] - ETA: 0s - loss: 0.0053 - accuracy: 0.9985\n",
            "Epoch 00011: val_loss did not improve from 0.90704\n",
            "334/334 [==============================] - 1s 4ms/step - loss: 0.0051 - accuracy: 0.9985 - val_loss: 1.0662 - val_accuracy: 0.8287\n",
            "Epoch 12/20\n",
            "334/334 [==============================] - ETA: 0s - loss: 0.0052 - accuracy: 0.9990\n",
            "Epoch 00012: val_loss did not improve from 0.90704\n",
            "334/334 [==============================] - 1s 4ms/step - loss: 0.0052 - accuracy: 0.9990 - val_loss: 1.0700 - val_accuracy: 0.8204\n",
            "Epoch 13/20\n",
            "334/334 [==============================] - ETA: 0s - loss: 0.0047 - accuracy: 0.9988\n",
            "Epoch 00013: val_loss did not improve from 0.90704\n",
            "334/334 [==============================] - 1s 4ms/step - loss: 0.0047 - accuracy: 0.9988 - val_loss: 1.1145 - val_accuracy: 0.8204\n",
            "Epoch 14/20\n",
            "334/334 [==============================] - ETA: 0s - loss: 0.0035 - accuracy: 0.9985\n",
            "Epoch 00014: val_loss did not improve from 0.90704\n",
            "334/334 [==============================] - 1s 4ms/step - loss: 0.0035 - accuracy: 0.9985 - val_loss: 1.0999 - val_accuracy: 0.8263\n",
            "Epoch 15/20\n",
            "329/334 [============================>.] - ETA: 0s - loss: 0.0048 - accuracy: 0.9986\n",
            "Epoch 00015: val_loss did not improve from 0.90704\n",
            "334/334 [==============================] - 1s 4ms/step - loss: 0.0047 - accuracy: 0.9987 - val_loss: 1.1569 - val_accuracy: 0.8263\n",
            "Epoch 16/20\n",
            "323/334 [============================>.] - ETA: 0s - loss: 0.0049 - accuracy: 0.9988\n",
            "Epoch 00016: val_loss did not improve from 0.90704\n",
            "334/334 [==============================] - 1s 4ms/step - loss: 0.0047 - accuracy: 0.9988 - val_loss: 1.1369 - val_accuracy: 0.8263\n",
            "Epoch 17/20\n",
            "324/334 [============================>.] - ETA: 0s - loss: 0.0042 - accuracy: 0.9989\n",
            "Epoch 00017: val_loss did not improve from 0.90704\n",
            "334/334 [==============================] - 1s 4ms/step - loss: 0.0044 - accuracy: 0.9988 - val_loss: 1.1445 - val_accuracy: 0.8263\n",
            "Epoch 18/20\n",
            "330/334 [============================>.] - ETA: 0s - loss: 0.0040 - accuracy: 0.9986\n",
            "Epoch 00018: val_loss did not improve from 0.90704\n",
            "334/334 [==============================] - 1s 4ms/step - loss: 0.0039 - accuracy: 0.9987 - val_loss: 1.1917 - val_accuracy: 0.8299\n",
            "Epoch 19/20\n",
            "324/334 [============================>.] - ETA: 0s - loss: 0.0025 - accuracy: 0.9991\n",
            "Epoch 00019: val_loss did not improve from 0.90704\n",
            "334/334 [==============================] - 1s 4ms/step - loss: 0.0035 - accuracy: 0.9990 - val_loss: 1.1522 - val_accuracy: 0.8323\n",
            "Epoch 20/20\n",
            "333/334 [============================>.] - ETA: 0s - loss: 0.0033 - accuracy: 0.9989\n",
            "Epoch 00020: val_loss did not improve from 0.90704\n",
            "334/334 [==============================] - 1s 4ms/step - loss: 0.0033 - accuracy: 0.9990 - val_loss: 1.1750 - val_accuracy: 0.8287\n",
            "Test accuracy: 81.4593%\n"
          ],
          "name": "stdout"
        }
      ]
    },
    {
      "cell_type": "code",
      "metadata": {
        "id": "f3e9mxwJ0c_h"
      },
      "source": [
        "Resnet50_model.save('/content/drive/My Drive/Resnet50model.h5')"
      ],
      "execution_count": 26,
      "outputs": []
    },
    {
      "cell_type": "code",
      "metadata": {
        "id": "0NACvSBTyRlc"
      },
      "source": [
        "inception_bottleneck_features =np.load('/content/drive/My Drive/DogInceptionData.npz')\n",
        "train_Inception = inception_bottleneck_features['train']\n",
        "valid_Inception = inception_bottleneck_features['valid']\n",
        "test_Inception = inception_bottleneck_features['test']"
      ],
      "execution_count": 12,
      "outputs": []
    },
    {
      "cell_type": "code",
      "metadata": {
        "id": "6PjmaPf9NLpO",
        "outputId": "2d5484b5-45df-462a-d4d9-1ffb0740c511",
        "colab": {
          "base_uri": "https://localhost:8080/"
        }
      },
      "source": [
        "Inception_model = Sequential()\n",
        "Inception_model.add(GlobalAveragePooling2D(input_shape=train_Resnet50.shape[1:]))\n",
        "Inception_model.add(Dense(133, activation='softmax'))\n",
        "Inception_model.summary()"
      ],
      "execution_count": 13,
      "outputs": [
        {
          "output_type": "stream",
          "text": [
            "Model: \"sequential_1\"\n",
            "_________________________________________________________________\n",
            "Layer (type)                 Output Shape              Param #   \n",
            "=================================================================\n",
            "global_average_pooling2d_1 ( (None, 2048)              0         \n",
            "_________________________________________________________________\n",
            "dense_1 (Dense)              (None, 133)               272517    \n",
            "=================================================================\n",
            "Total params: 272,517\n",
            "Trainable params: 272,517\n",
            "Non-trainable params: 0\n",
            "_________________________________________________________________\n"
          ],
          "name": "stdout"
        }
      ]
    },
    {
      "cell_type": "code",
      "metadata": {
        "id": "bLuf3_klNlp7",
        "outputId": "ebab031c-e27a-441d-955a-71a09fd022b1",
        "colab": {
          "base_uri": "https://localhost:8080/"
        }
      },
      "source": [
        "Inception_model.compile(loss='categorical_crossentropy', optimizer='rmsprop', metrics=['accuracy'])\n",
        "checkpointer = ModelCheckpoint(filepath='/content/drive/My Drive/InceptionWeight.hdf5', verbose=1, save_best_only=True)\n",
        "Inception_model.fit(train_Inception, train_targets, validation_data=(valid_Inception, valid_targets),epochs=30, batch_size=20, callbacks=[checkpointer], verbose=1)\n",
        "Inception_model.load_weights('/content/drive/My Drive/InceptionWeight.hdf5')\n",
        "Inception_predictions = [np.argmax(Inception_model.predict(np.expand_dims(feature, axis=0))) for feature in test_Inception]\n",
        "test_accuracy = 100*np.sum(np.array(Inception_predictions)==np.argmax(test_targets, axis=1))/len(Inception_predictions)\n",
        "print('Test accuracy: %.4f%%' % test_accuracy)"
      ],
      "execution_count": 19,
      "outputs": [
        {
          "output_type": "stream",
          "text": [
            "Epoch 1/30\n",
            "WARNING:tensorflow:Model was constructed with shape (None, 1, 1, 2048) for input Tensor(\"global_average_pooling2d_1_input:0\", shape=(None, 1, 1, 2048), dtype=float32), but it was called on an input with incompatible shape (20, 5, 5, 2048).\n",
            "WARNING:tensorflow:Model was constructed with shape (None, 1, 1, 2048) for input Tensor(\"global_average_pooling2d_1_input:0\", shape=(None, 1, 1, 2048), dtype=float32), but it was called on an input with incompatible shape (20, 5, 5, 2048).\n",
            "334/334 [==============================] - ETA: 0s - loss: 0.0082 - accuracy: 0.9981WARNING:tensorflow:Model was constructed with shape (None, 1, 1, 2048) for input Tensor(\"global_average_pooling2d_1_input:0\", shape=(None, 1, 1, 2048), dtype=float32), but it was called on an input with incompatible shape (None, 5, 5, 2048).\n",
            "\n",
            "Epoch 00001: val_loss improved from inf to 1.26986, saving model to /content/drive/My Drive/InceptionWeight.hdf5\n",
            "334/334 [==============================] - 3s 10ms/step - loss: 0.0082 - accuracy: 0.9981 - val_loss: 1.2699 - val_accuracy: 0.8467\n",
            "Epoch 2/30\n",
            "330/334 [============================>.] - ETA: 0s - loss: 0.0058 - accuracy: 0.9983\n",
            "Epoch 00002: val_loss improved from 1.26986 to 1.26494, saving model to /content/drive/My Drive/InceptionWeight.hdf5\n",
            "334/334 [==============================] - 2s 7ms/step - loss: 0.0057 - accuracy: 0.9984 - val_loss: 1.2649 - val_accuracy: 0.8491\n",
            "Epoch 3/30\n",
            "327/334 [============================>.] - ETA: 0s - loss: 0.0059 - accuracy: 0.9980\n",
            "Epoch 00003: val_loss did not improve from 1.26494\n",
            "334/334 [==============================] - 2s 7ms/step - loss: 0.0065 - accuracy: 0.9979 - val_loss: 1.2932 - val_accuracy: 0.8455\n",
            "Epoch 4/30\n",
            "328/334 [============================>.] - ETA: 0s - loss: 0.0058 - accuracy: 0.9982\n",
            "Epoch 00004: val_loss did not improve from 1.26494\n",
            "334/334 [==============================] - 2s 7ms/step - loss: 0.0061 - accuracy: 0.9981 - val_loss: 1.3720 - val_accuracy: 0.8551\n",
            "Epoch 5/30\n",
            "331/334 [============================>.] - ETA: 0s - loss: 0.0069 - accuracy: 0.9982\n",
            "Epoch 00005: val_loss did not improve from 1.26494\n",
            "334/334 [==============================] - 2s 7ms/step - loss: 0.0069 - accuracy: 0.9982 - val_loss: 1.3358 - val_accuracy: 0.8515\n",
            "Epoch 6/30\n",
            "327/334 [============================>.] - ETA: 0s - loss: 0.0055 - accuracy: 0.9989\n",
            "Epoch 00006: val_loss did not improve from 1.26494\n",
            "334/334 [==============================] - 2s 7ms/step - loss: 0.0059 - accuracy: 0.9988 - val_loss: 1.3318 - val_accuracy: 0.8491\n",
            "Epoch 7/30\n",
            "332/334 [============================>.] - ETA: 0s - loss: 0.0069 - accuracy: 0.9983\n",
            "Epoch 00007: val_loss did not improve from 1.26494\n",
            "334/334 [==============================] - 2s 7ms/step - loss: 0.0069 - accuracy: 0.9984 - val_loss: 1.3753 - val_accuracy: 0.8599\n",
            "Epoch 8/30\n",
            "326/334 [============================>.] - ETA: 0s - loss: 0.0070 - accuracy: 0.9982\n",
            "Epoch 00008: val_loss did not improve from 1.26494\n",
            "334/334 [==============================] - 2s 7ms/step - loss: 0.0069 - accuracy: 0.9982 - val_loss: 1.3418 - val_accuracy: 0.8491\n",
            "Epoch 9/30\n",
            "327/334 [============================>.] - ETA: 0s - loss: 0.0053 - accuracy: 0.9982\n",
            "Epoch 00009: val_loss did not improve from 1.26494\n",
            "334/334 [==============================] - 2s 7ms/step - loss: 0.0052 - accuracy: 0.9982 - val_loss: 1.3851 - val_accuracy: 0.8515\n",
            "Epoch 10/30\n",
            "329/334 [============================>.] - ETA: 0s - loss: 0.0058 - accuracy: 0.9988\n",
            "Epoch 00010: val_loss did not improve from 1.26494\n",
            "334/334 [==============================] - 2s 7ms/step - loss: 0.0057 - accuracy: 0.9988 - val_loss: 1.3304 - val_accuracy: 0.8527\n",
            "Epoch 11/30\n",
            "334/334 [==============================] - ETA: 0s - loss: 0.0053 - accuracy: 0.9985\n",
            "Epoch 00011: val_loss did not improve from 1.26494\n",
            "334/334 [==============================] - 2s 7ms/step - loss: 0.0053 - accuracy: 0.9985 - val_loss: 1.3663 - val_accuracy: 0.8467\n",
            "Epoch 12/30\n",
            "330/334 [============================>.] - ETA: 0s - loss: 0.0056 - accuracy: 0.9985\n",
            "Epoch 00012: val_loss did not improve from 1.26494\n",
            "334/334 [==============================] - 2s 7ms/step - loss: 0.0056 - accuracy: 0.9985 - val_loss: 1.4007 - val_accuracy: 0.8515\n",
            "Epoch 13/30\n",
            "327/334 [============================>.] - ETA: 0s - loss: 0.0060 - accuracy: 0.9986\n",
            "Epoch 00013: val_loss did not improve from 1.26494\n",
            "334/334 [==============================] - 2s 7ms/step - loss: 0.0059 - accuracy: 0.9987 - val_loss: 1.3944 - val_accuracy: 0.8515\n",
            "Epoch 14/30\n",
            "329/334 [============================>.] - ETA: 0s - loss: 0.0042 - accuracy: 0.9986\n",
            "Epoch 00014: val_loss did not improve from 1.26494\n",
            "334/334 [==============================] - 2s 7ms/step - loss: 0.0041 - accuracy: 0.9987 - val_loss: 1.4271 - val_accuracy: 0.8563\n",
            "Epoch 15/30\n",
            "331/334 [============================>.] - ETA: 0s - loss: 0.0061 - accuracy: 0.9988\n",
            "Epoch 00015: val_loss did not improve from 1.26494\n",
            "334/334 [==============================] - 2s 7ms/step - loss: 0.0061 - accuracy: 0.9988 - val_loss: 1.4251 - val_accuracy: 0.8563\n",
            "Epoch 16/30\n",
            "332/334 [============================>.] - ETA: 0s - loss: 0.0055 - accuracy: 0.9989\n",
            "Epoch 00016: val_loss did not improve from 1.26494\n",
            "334/334 [==============================] - 2s 7ms/step - loss: 0.0055 - accuracy: 0.9990 - val_loss: 1.4208 - val_accuracy: 0.8527\n",
            "Epoch 17/30\n",
            "329/334 [============================>.] - ETA: 0s - loss: 0.0049 - accuracy: 0.9988\n",
            "Epoch 00017: val_loss did not improve from 1.26494\n",
            "334/334 [==============================] - 2s 7ms/step - loss: 0.0053 - accuracy: 0.9987 - val_loss: 1.4141 - val_accuracy: 0.8551\n",
            "Epoch 18/30\n",
            "333/334 [============================>.] - ETA: 0s - loss: 0.0061 - accuracy: 0.9983\n",
            "Epoch 00018: val_loss did not improve from 1.26494\n",
            "334/334 [==============================] - 2s 7ms/step - loss: 0.0061 - accuracy: 0.9984 - val_loss: 1.4345 - val_accuracy: 0.8539\n",
            "Epoch 19/30\n",
            "327/334 [============================>.] - ETA: 0s - loss: 0.0053 - accuracy: 0.9985\n",
            "Epoch 00019: val_loss did not improve from 1.26494\n",
            "334/334 [==============================] - 2s 7ms/step - loss: 0.0052 - accuracy: 0.9985 - val_loss: 1.4253 - val_accuracy: 0.8539\n",
            "Epoch 20/30\n",
            "330/334 [============================>.] - ETA: 0s - loss: 0.0051 - accuracy: 0.9986\n",
            "Epoch 00020: val_loss did not improve from 1.26494\n",
            "334/334 [==============================] - 2s 7ms/step - loss: 0.0050 - accuracy: 0.9987 - val_loss: 1.4556 - val_accuracy: 0.8455\n",
            "Epoch 21/30\n",
            "329/334 [============================>.] - ETA: 0s - loss: 0.0057 - accuracy: 0.9985\n",
            "Epoch 00021: val_loss did not improve from 1.26494\n",
            "334/334 [==============================] - 2s 7ms/step - loss: 0.0056 - accuracy: 0.9985 - val_loss: 1.4589 - val_accuracy: 0.8491\n",
            "Epoch 22/30\n",
            "333/334 [============================>.] - ETA: 0s - loss: 0.0038 - accuracy: 0.9988\n",
            "Epoch 00022: val_loss did not improve from 1.26494\n",
            "334/334 [==============================] - 2s 7ms/step - loss: 0.0038 - accuracy: 0.9988 - val_loss: 1.3990 - val_accuracy: 0.8479\n",
            "Epoch 23/30\n",
            "330/334 [============================>.] - ETA: 0s - loss: 0.0046 - accuracy: 0.9988\n",
            "Epoch 00023: val_loss did not improve from 1.26494\n",
            "334/334 [==============================] - 2s 7ms/step - loss: 0.0046 - accuracy: 0.9988 - val_loss: 1.4824 - val_accuracy: 0.8491\n",
            "Epoch 24/30\n",
            "330/334 [============================>.] - ETA: 0s - loss: 0.0053 - accuracy: 0.9986\n",
            "Epoch 00024: val_loss did not improve from 1.26494\n",
            "334/334 [==============================] - 2s 7ms/step - loss: 0.0052 - accuracy: 0.9987 - val_loss: 1.4761 - val_accuracy: 0.8539\n",
            "Epoch 25/30\n",
            "326/334 [============================>.] - ETA: 0s - loss: 0.0057 - accuracy: 0.9985\n",
            "Epoch 00025: val_loss did not improve from 1.26494\n",
            "334/334 [==============================] - 2s 7ms/step - loss: 0.0056 - accuracy: 0.9985 - val_loss: 1.4884 - val_accuracy: 0.8467\n",
            "Epoch 26/30\n",
            "328/334 [============================>.] - ETA: 0s - loss: 0.0052 - accuracy: 0.9985\n",
            "Epoch 00026: val_loss did not improve from 1.26494\n",
            "334/334 [==============================] - 2s 7ms/step - loss: 0.0051 - accuracy: 0.9985 - val_loss: 1.4692 - val_accuracy: 0.8539\n",
            "Epoch 27/30\n",
            "332/334 [============================>.] - ETA: 0s - loss: 0.0056 - accuracy: 0.9982\n",
            "Epoch 00027: val_loss did not improve from 1.26494\n",
            "334/334 [==============================] - 2s 7ms/step - loss: 0.0056 - accuracy: 0.9982 - val_loss: 1.5081 - val_accuracy: 0.8515\n",
            "Epoch 28/30\n",
            "329/334 [============================>.] - ETA: 0s - loss: 0.0064 - accuracy: 0.9988\n",
            "Epoch 00028: val_loss did not improve from 1.26494\n",
            "334/334 [==============================] - 2s 7ms/step - loss: 0.0063 - accuracy: 0.9988 - val_loss: 1.4835 - val_accuracy: 0.8479\n",
            "Epoch 29/30\n",
            "330/334 [============================>.] - ETA: 0s - loss: 0.0037 - accuracy: 0.9989\n",
            "Epoch 00029: val_loss did not improve from 1.26494\n",
            "334/334 [==============================] - 2s 7ms/step - loss: 0.0036 - accuracy: 0.9990 - val_loss: 1.5439 - val_accuracy: 0.8527\n",
            "Epoch 30/30\n",
            "331/334 [============================>.] - ETA: 0s - loss: 0.0056 - accuracy: 0.9985\n",
            "Epoch 00030: val_loss did not improve from 1.26494\n",
            "334/334 [==============================] - 2s 7ms/step - loss: 0.0055 - accuracy: 0.9985 - val_loss: 1.5122 - val_accuracy: 0.8539\n",
            "WARNING:tensorflow:Model was constructed with shape (None, 1, 1, 2048) for input Tensor(\"global_average_pooling2d_1_input:0\", shape=(None, 1, 1, 2048), dtype=float32), but it was called on an input with incompatible shape (None, 5, 5, 2048).\n",
            "Test accuracy: 82.5359%\n"
          ],
          "name": "stdout"
        }
      ]
    },
    {
      "cell_type": "code",
      "metadata": {
        "id": "ebR9veDtm-1Y",
        "outputId": "2f116c30-3cac-47f8-a68b-ca466d5a5399",
        "colab": {
          "base_uri": "https://localhost:8080/",
          "height": 1000
        }
      },
      "source": [
        "history = Resnet50_model.fit(train_Resnet50, train_targets, validation_data=(valid_Resnet50, valid_targets),epochs=30, batch_size=20, callbacks=[checkpointer], verbose=1)\n",
        "print(history.history.keys())\n",
        "plt.plot(history.history['accuracy'])\n",
        "plt.plot(history.history['val_accuracy'])\n",
        "plt.title('model accuracy')\n",
        "plt.ylabel('accuracy')\n",
        "plt.xlabel('epoch')\n",
        "plt.legend(['train', 'test'], loc='upper left')\n",
        "plt.show()\n",
        "plt.plot(history.history['loss'])\n",
        "plt.plot(history.history['val_loss'])\n",
        "plt.title('model loss')\n",
        "plt.ylabel('loss')\n",
        "plt.xlabel('epoch')\n",
        "plt.legend(['train', 'test'], loc='upper left')\n",
        "plt.show()"
      ],
      "execution_count": 17,
      "outputs": [
        {
          "output_type": "stream",
          "text": [
            "Epoch 1/30\n",
            "325/334 [============================>.] - ETA: 0s - loss: 0.0048 - accuracy: 0.9986\n",
            "Epoch 00001: val_loss did not improve from 0.60342\n",
            "334/334 [==============================] - 2s 5ms/step - loss: 0.0046 - accuracy: 0.9987 - val_loss: 1.1544 - val_accuracy: 0.8275\n",
            "Epoch 2/30\n",
            "331/334 [============================>.] - ETA: 0s - loss: 0.0037 - accuracy: 0.9988\n",
            "Epoch 00002: val_loss did not improve from 0.60342\n",
            "334/334 [==============================] - 2s 5ms/step - loss: 0.0044 - accuracy: 0.9987 - val_loss: 1.1732 - val_accuracy: 0.8251\n",
            "Epoch 3/30\n",
            "326/334 [============================>.] - ETA: 0s - loss: 0.0039 - accuracy: 0.9986\n",
            "Epoch 00003: val_loss did not improve from 0.60342\n",
            "334/334 [==============================] - 2s 5ms/step - loss: 0.0038 - accuracy: 0.9987 - val_loss: 1.1718 - val_accuracy: 0.8359\n",
            "Epoch 4/30\n",
            "329/334 [============================>.] - ETA: 0s - loss: 0.0040 - accuracy: 0.9985\n",
            "Epoch 00004: val_loss did not improve from 0.60342\n",
            "334/334 [==============================] - 2s 5ms/step - loss: 0.0039 - accuracy: 0.9985 - val_loss: 1.1449 - val_accuracy: 0.8359\n",
            "Epoch 5/30\n",
            "327/334 [============================>.] - ETA: 0s - loss: 0.0045 - accuracy: 0.9991\n",
            "Epoch 00005: val_loss did not improve from 0.60342\n",
            "334/334 [==============================] - 2s 5ms/step - loss: 0.0044 - accuracy: 0.9991 - val_loss: 1.1630 - val_accuracy: 0.8323\n",
            "Epoch 6/30\n",
            "328/334 [============================>.] - ETA: 0s - loss: 0.0036 - accuracy: 0.9988\n",
            "Epoch 00006: val_loss did not improve from 0.60342\n",
            "334/334 [==============================] - 2s 5ms/step - loss: 0.0036 - accuracy: 0.9988 - val_loss: 1.1945 - val_accuracy: 0.8347\n",
            "Epoch 7/30\n",
            "327/334 [============================>.] - ETA: 0s - loss: 0.0038 - accuracy: 0.9986\n",
            "Epoch 00007: val_loss did not improve from 0.60342\n",
            "334/334 [==============================] - 2s 5ms/step - loss: 0.0042 - accuracy: 0.9984 - val_loss: 1.2011 - val_accuracy: 0.8311\n",
            "Epoch 8/30\n",
            "334/334 [==============================] - ETA: 0s - loss: 0.0054 - accuracy: 0.9987\n",
            "Epoch 00008: val_loss did not improve from 0.60342\n",
            "334/334 [==============================] - 2s 5ms/step - loss: 0.0054 - accuracy: 0.9987 - val_loss: 1.1899 - val_accuracy: 0.8311\n",
            "Epoch 9/30\n",
            "331/334 [============================>.] - ETA: 0s - loss: 0.0048 - accuracy: 0.9989\n",
            "Epoch 00009: val_loss did not improve from 0.60342\n",
            "334/334 [==============================] - 2s 5ms/step - loss: 0.0048 - accuracy: 0.9990 - val_loss: 1.1766 - val_accuracy: 0.8407\n",
            "Epoch 10/30\n",
            "329/334 [============================>.] - ETA: 0s - loss: 0.0055 - accuracy: 0.9988\n",
            "Epoch 00010: val_loss did not improve from 0.60342\n",
            "334/334 [==============================] - 2s 5ms/step - loss: 0.0055 - accuracy: 0.9988 - val_loss: 1.1982 - val_accuracy: 0.8299\n",
            "Epoch 11/30\n",
            "330/334 [============================>.] - ETA: 0s - loss: 0.0041 - accuracy: 0.9985\n",
            "Epoch 00011: val_loss did not improve from 0.60342\n",
            "334/334 [==============================] - 2s 5ms/step - loss: 0.0041 - accuracy: 0.9985 - val_loss: 1.1818 - val_accuracy: 0.8359\n",
            "Epoch 12/30\n",
            "331/334 [============================>.] - ETA: 0s - loss: 0.0056 - accuracy: 0.9991\n",
            "Epoch 00012: val_loss did not improve from 0.60342\n",
            "334/334 [==============================] - 2s 5ms/step - loss: 0.0056 - accuracy: 0.9991 - val_loss: 1.2225 - val_accuracy: 0.8347\n",
            "Epoch 13/30\n",
            "334/334 [==============================] - ETA: 0s - loss: 0.0041 - accuracy: 0.9990\n",
            "Epoch 00013: val_loss did not improve from 0.60342\n",
            "334/334 [==============================] - 2s 5ms/step - loss: 0.0041 - accuracy: 0.9990 - val_loss: 1.2059 - val_accuracy: 0.8347\n",
            "Epoch 14/30\n",
            "328/334 [============================>.] - ETA: 0s - loss: 0.0045 - accuracy: 0.9989\n",
            "Epoch 00014: val_loss did not improve from 0.60342\n",
            "334/334 [==============================] - 2s 5ms/step - loss: 0.0044 - accuracy: 0.9990 - val_loss: 1.1940 - val_accuracy: 0.8311\n",
            "Epoch 15/30\n",
            "325/334 [============================>.] - ETA: 0s - loss: 0.0045 - accuracy: 0.9988\n",
            "Epoch 00015: val_loss did not improve from 0.60342\n",
            "334/334 [==============================] - 2s 5ms/step - loss: 0.0044 - accuracy: 0.9988 - val_loss: 1.2195 - val_accuracy: 0.8359\n",
            "Epoch 16/30\n",
            "323/334 [============================>.] - ETA: 0s - loss: 0.0044 - accuracy: 0.9989\n",
            "Epoch 00016: val_loss did not improve from 0.60342\n",
            "334/334 [==============================] - 2s 5ms/step - loss: 0.0054 - accuracy: 0.9987 - val_loss: 1.2254 - val_accuracy: 0.8395\n",
            "Epoch 17/30\n",
            "327/334 [============================>.] - ETA: 0s - loss: 0.0046 - accuracy: 0.9989\n",
            "Epoch 00017: val_loss did not improve from 0.60342\n",
            "334/334 [==============================] - 2s 5ms/step - loss: 0.0045 - accuracy: 0.9990 - val_loss: 1.2113 - val_accuracy: 0.8347\n",
            "Epoch 18/30\n",
            "328/334 [============================>.] - ETA: 0s - loss: 0.0036 - accuracy: 0.9986\n",
            "Epoch 00018: val_loss did not improve from 0.60342\n",
            "334/334 [==============================] - 2s 5ms/step - loss: 0.0036 - accuracy: 0.9987 - val_loss: 1.2467 - val_accuracy: 0.8299\n",
            "Epoch 19/30\n",
            "325/334 [============================>.] - ETA: 0s - loss: 0.0046 - accuracy: 0.9991\n",
            "Epoch 00019: val_loss did not improve from 0.60342\n",
            "334/334 [==============================] - 2s 5ms/step - loss: 0.0045 - accuracy: 0.9991 - val_loss: 1.2249 - val_accuracy: 0.8335\n",
            "Epoch 20/30\n",
            "328/334 [============================>.] - ETA: 0s - loss: 0.0040 - accuracy: 0.9985\n",
            "Epoch 00020: val_loss did not improve from 0.60342\n",
            "334/334 [==============================] - 2s 5ms/step - loss: 0.0044 - accuracy: 0.9984 - val_loss: 1.2479 - val_accuracy: 0.8359\n",
            "Epoch 21/30\n",
            "330/334 [============================>.] - ETA: 0s - loss: 0.0055 - accuracy: 0.9989\n",
            "Epoch 00021: val_loss did not improve from 0.60342\n",
            "334/334 [==============================] - 2s 5ms/step - loss: 0.0054 - accuracy: 0.9990 - val_loss: 1.2266 - val_accuracy: 0.8395\n",
            "Epoch 22/30\n",
            "324/334 [============================>.] - ETA: 0s - loss: 0.0048 - accuracy: 0.9989\n",
            "Epoch 00022: val_loss did not improve from 0.60342\n",
            "334/334 [==============================] - 2s 5ms/step - loss: 0.0047 - accuracy: 0.9990 - val_loss: 1.2446 - val_accuracy: 0.8359\n",
            "Epoch 23/30\n",
            "326/334 [============================>.] - ETA: 0s - loss: 0.0040 - accuracy: 0.9989\n",
            "Epoch 00023: val_loss did not improve from 0.60342\n",
            "334/334 [==============================] - 2s 5ms/step - loss: 0.0053 - accuracy: 0.9988 - val_loss: 1.2337 - val_accuracy: 0.8419\n",
            "Epoch 24/30\n",
            "327/334 [============================>.] - ETA: 0s - loss: 0.0055 - accuracy: 0.9988\n",
            "Epoch 00024: val_loss did not improve from 0.60342\n",
            "334/334 [==============================] - 2s 5ms/step - loss: 0.0054 - accuracy: 0.9988 - val_loss: 1.2514 - val_accuracy: 0.8395\n",
            "Epoch 25/30\n",
            "328/334 [============================>.] - ETA: 0s - loss: 0.0039 - accuracy: 0.9989\n",
            "Epoch 00025: val_loss did not improve from 0.60342\n",
            "334/334 [==============================] - 2s 5ms/step - loss: 0.0047 - accuracy: 0.9988 - val_loss: 1.2510 - val_accuracy: 0.8383\n",
            "Epoch 26/30\n",
            "326/334 [============================>.] - ETA: 0s - loss: 0.0051 - accuracy: 0.9989\n",
            "Epoch 00026: val_loss did not improve from 0.60342\n",
            "334/334 [==============================] - 2s 5ms/step - loss: 0.0056 - accuracy: 0.9988 - val_loss: 1.2666 - val_accuracy: 0.8371\n",
            "Epoch 27/30\n",
            "333/334 [============================>.] - ETA: 0s - loss: 0.0054 - accuracy: 0.9989\n",
            "Epoch 00027: val_loss did not improve from 0.60342\n",
            "334/334 [==============================] - 2s 5ms/step - loss: 0.0054 - accuracy: 0.9990 - val_loss: 1.2326 - val_accuracy: 0.8383\n",
            "Epoch 28/30\n",
            "334/334 [==============================] - ETA: 0s - loss: 0.0045 - accuracy: 0.9988\n",
            "Epoch 00028: val_loss did not improve from 0.60342\n",
            "334/334 [==============================] - 2s 5ms/step - loss: 0.0045 - accuracy: 0.9988 - val_loss: 1.2572 - val_accuracy: 0.8395\n",
            "Epoch 29/30\n",
            "332/334 [============================>.] - ETA: 0s - loss: 0.0050 - accuracy: 0.9989\n",
            "Epoch 00029: val_loss did not improve from 0.60342\n",
            "334/334 [==============================] - 2s 5ms/step - loss: 0.0050 - accuracy: 0.9990 - val_loss: 1.2623 - val_accuracy: 0.8419\n",
            "Epoch 30/30\n",
            "327/334 [============================>.] - ETA: 0s - loss: 0.0053 - accuracy: 0.9986\n",
            "Epoch 00030: val_loss did not improve from 0.60342\n",
            "334/334 [==============================] - 2s 5ms/step - loss: 0.0052 - accuracy: 0.9987 - val_loss: 1.2496 - val_accuracy: 0.8395\n",
            "dict_keys(['loss', 'accuracy', 'val_loss', 'val_accuracy'])\n"
          ],
          "name": "stdout"
        },
        {
          "output_type": "display_data",
          "data": {
            "image/png": "[encoded data removed]",
            "text/plain": [
              "<Figure size 432x288 with 1 Axes>"
            ]
          },
          "metadata": {
            "tags": [],
            "needs_background": "light"
          }
        },
        {
          "output_type": "display_data",
          "data": {
            "image/png": "[encoded data removed]",
            "text/plain": [
              "<Figure size 432x288 with 1 Axes>"
            ]
          },
          "metadata": {
            "tags": [],
            "needs_background": "light"
          }
        }
      ]
    },
    {
      "cell_type": "code",
      "metadata": {
        "id": "IiQ6I65apzTb"
      },
      "source": [
        "Inception_model.save('/content/drive/My Drive/Inceptionmodel.h5')"
      ],
      "execution_count": 20,
      "outputs": []
    },
    {
      "cell_type": "code",
      "metadata": {
        "id": "MgyJvQ__2uhE",
        "outputId": "52bb672e-0746-4304-b32f-4b3fb16a0574",
        "colab": {
          "base_uri": "https://localhost:8080/",
          "height": 1000
        }
      },
      "source": [
        "history = Inception_model.fit(train_Inception, train_targets, validation_data=(valid_Inception, valid_targets),epochs=20, batch_size=20, callbacks=[checkpointer], verbose=1)\n",
        "print(history.history.keys())\n",
        "plt.plot(history.history['accuracy'])\n",
        "plt.plot(history.history['val_accuracy'])\n",
        "plt.title('model accuracy')\n",
        "plt.ylabel('accuracy')\n",
        "plt.xlabel('epoch')\n",
        "plt.legend(['train', 'test'], loc='upper left')\n",
        "plt.show()\n",
        "plt.plot(history.history['loss'])\n",
        "plt.plot(history.history['val_loss'])\n",
        "plt.title('model loss')\n",
        "plt.ylabel('loss')\n",
        "plt.xlabel('epoch')\n",
        "plt.legend(['train', 'test'], loc='upper left')\n",
        "plt.show()"
      ],
      "execution_count": 18,
      "outputs": [
        {
          "output_type": "stream",
          "text": [
            "Epoch 1/20\n",
            "334/334 [==============================] - ETA: 0s - loss: 0.0229 - accuracy: 0.9928\n",
            "Epoch 00001: val_loss did not improve from 0.60342\n",
            "334/334 [==============================] - 3s 8ms/step - loss: 0.0229 - accuracy: 0.9928 - val_loss: 1.0311 - val_accuracy: 0.8467\n",
            "Epoch 2/20\n",
            "329/334 [============================>.] - ETA: 0s - loss: 0.0199 - accuracy: 0.9930\n",
            "Epoch 00002: val_loss did not improve from 0.60342\n",
            "334/334 [==============================] - 2s 7ms/step - loss: 0.0203 - accuracy: 0.9928 - val_loss: 1.0621 - val_accuracy: 0.8599\n",
            "Epoch 3/20\n",
            "331/334 [============================>.] - ETA: 0s - loss: 0.0174 - accuracy: 0.9940\n",
            "Epoch 00003: val_loss did not improve from 0.60342\n",
            "334/334 [==============================] - 2s 7ms/step - loss: 0.0177 - accuracy: 0.9939 - val_loss: 1.0809 - val_accuracy: 0.8515\n",
            "Epoch 4/20\n",
            "326/334 [============================>.] - ETA: 0s - loss: 0.0169 - accuracy: 0.9956\n",
            "Epoch 00004: val_loss did not improve from 0.60342\n",
            "334/334 [==============================] - 2s 7ms/step - loss: 0.0183 - accuracy: 0.9952 - val_loss: 1.0606 - val_accuracy: 0.8467\n",
            "Epoch 5/20\n",
            "328/334 [============================>.] - ETA: 0s - loss: 0.0167 - accuracy: 0.9948\n",
            "Epoch 00005: val_loss did not improve from 0.60342\n",
            "334/334 [==============================] - 2s 7ms/step - loss: 0.0170 - accuracy: 0.9946 - val_loss: 1.1229 - val_accuracy: 0.8479\n",
            "Epoch 6/20\n",
            "334/334 [==============================] - ETA: 0s - loss: 0.0153 - accuracy: 0.9951\n",
            "Epoch 00006: val_loss did not improve from 0.60342\n",
            "334/334 [==============================] - 2s 7ms/step - loss: 0.0153 - accuracy: 0.9951 - val_loss: 1.0250 - val_accuracy: 0.8503\n",
            "Epoch 7/20\n",
            "331/334 [============================>.] - ETA: 0s - loss: 0.0138 - accuracy: 0.9953\n",
            "Epoch 00007: val_loss did not improve from 0.60342\n",
            "334/334 [==============================] - 2s 7ms/step - loss: 0.0137 - accuracy: 0.9954 - val_loss: 1.1536 - val_accuracy: 0.8479\n",
            "Epoch 8/20\n",
            "328/334 [============================>.] - ETA: 0s - loss: 0.0130 - accuracy: 0.9959\n",
            "Epoch 00008: val_loss did not improve from 0.60342\n",
            "334/334 [==============================] - 2s 7ms/step - loss: 0.0130 - accuracy: 0.9960 - val_loss: 1.1372 - val_accuracy: 0.8515\n",
            "Epoch 9/20\n",
            "334/334 [==============================] - ETA: 0s - loss: 0.0108 - accuracy: 0.9972\n",
            "Epoch 00009: val_loss did not improve from 0.60342\n",
            "334/334 [==============================] - 2s 7ms/step - loss: 0.0108 - accuracy: 0.9972 - val_loss: 1.1332 - val_accuracy: 0.8527\n",
            "Epoch 10/20\n",
            "334/334 [==============================] - ETA: 0s - loss: 0.0107 - accuracy: 0.9967\n",
            "Epoch 00010: val_loss did not improve from 0.60342\n",
            "334/334 [==============================] - 2s 7ms/step - loss: 0.0107 - accuracy: 0.9967 - val_loss: 1.1866 - val_accuracy: 0.8503\n",
            "Epoch 11/20\n",
            "331/334 [============================>.] - ETA: 0s - loss: 0.0100 - accuracy: 0.9965\n",
            "Epoch 00011: val_loss did not improve from 0.60342\n",
            "334/334 [==============================] - 2s 7ms/step - loss: 0.0102 - accuracy: 0.9963 - val_loss: 1.1722 - val_accuracy: 0.8527\n",
            "Epoch 12/20\n",
            "330/334 [============================>.] - ETA: 0s - loss: 0.0092 - accuracy: 0.9971\n",
            "Epoch 00012: val_loss did not improve from 0.60342\n",
            "334/334 [==============================] - 2s 7ms/step - loss: 0.0099 - accuracy: 0.9970 - val_loss: 1.1655 - val_accuracy: 0.8551\n",
            "Epoch 13/20\n",
            "330/334 [============================>.] - ETA: 0s - loss: 0.0094 - accuracy: 0.9970\n",
            "Epoch 00013: val_loss did not improve from 0.60342\n",
            "334/334 [==============================] - 2s 7ms/step - loss: 0.0093 - accuracy: 0.9970 - val_loss: 1.1828 - val_accuracy: 0.8455\n",
            "Epoch 14/20\n",
            "330/334 [============================>.] - ETA: 0s - loss: 0.0100 - accuracy: 0.9970\n",
            "Epoch 00014: val_loss did not improve from 0.60342\n",
            "334/334 [==============================] - 2s 7ms/step - loss: 0.0099 - accuracy: 0.9970 - val_loss: 1.1518 - val_accuracy: 0.8539\n",
            "Epoch 15/20\n",
            "329/334 [============================>.] - ETA: 0s - loss: 0.0095 - accuracy: 0.9971\n",
            "Epoch 00015: val_loss did not improve from 0.60342\n",
            "334/334 [==============================] - 2s 7ms/step - loss: 0.0093 - accuracy: 0.9972 - val_loss: 1.1895 - val_accuracy: 0.8587\n",
            "Epoch 16/20\n",
            "333/334 [============================>.] - ETA: 0s - loss: 0.0079 - accuracy: 0.9977\n",
            "Epoch 00016: val_loss did not improve from 0.60342\n",
            "334/334 [==============================] - 2s 7ms/step - loss: 0.0081 - accuracy: 0.9976 - val_loss: 1.2571 - val_accuracy: 0.8551\n",
            "Epoch 17/20\n",
            "333/334 [============================>.] - ETA: 0s - loss: 0.0079 - accuracy: 0.9976\n",
            "Epoch 00017: val_loss did not improve from 0.60342\n",
            "334/334 [==============================] - 2s 7ms/step - loss: 0.0079 - accuracy: 0.9976 - val_loss: 1.2789 - val_accuracy: 0.8443\n",
            "Epoch 18/20\n",
            "329/334 [============================>.] - ETA: 0s - loss: 0.0064 - accuracy: 0.9983\n",
            "Epoch 00018: val_loss did not improve from 0.60342\n",
            "334/334 [==============================] - 2s 7ms/step - loss: 0.0063 - accuracy: 0.9984 - val_loss: 1.2280 - val_accuracy: 0.8455\n",
            "Epoch 19/20\n",
            "328/334 [============================>.] - ETA: 0s - loss: 0.0072 - accuracy: 0.9980\n",
            "Epoch 00019: val_loss did not improve from 0.60342\n",
            "334/334 [==============================] - 2s 7ms/step - loss: 0.0071 - accuracy: 0.9981 - val_loss: 1.2867 - val_accuracy: 0.8611\n",
            "Epoch 20/20\n",
            "332/334 [============================>.] - ETA: 0s - loss: 0.0069 - accuracy: 0.9985\n",
            "Epoch 00020: val_loss did not improve from 0.60342\n",
            "334/334 [==============================] - 2s 7ms/step - loss: 0.0068 - accuracy: 0.9985 - val_loss: 1.2779 - val_accuracy: 0.8503\n",
            "dict_keys(['loss', 'accuracy', 'val_loss', 'val_accuracy'])\n"
          ],
          "name": "stdout"
        },
        {
          "output_type": "display_data",
          "data": {
            "image/png": "[encoded data removed]",
            "text/plain": [
              "<Figure size 432x288 with 1 Axes>"
            ]
          },
          "metadata": {
            "tags": [],
            "needs_background": "light"
          }
        },
        {
          "output_type": "display_data",
          "data": {
            "image/png": "[encoded data removed]",
            "text/plain": [
              "<Figure size 432x288 with 1 Axes>"
            ]
          },
          "metadata": {
            "tags": [],
            "needs_background": "light"
          }
        }
      ]
    },
    {
      "cell_type": "code",
      "metadata": {
        "id": "TS9dPc1HtIps"
      },
      "source": [
        "Resnet50_Model=load_model('/content/drive/My Drive/Resnet50model.h5')"
      ],
      "execution_count": 6,
      "outputs": []
    },
    {
      "cell_type": "code",
      "metadata": {
        "id": "NrQtd63gj81J",
        "outputId": "bc26296a-15d1-46f7-9b35-f025e0eb7d85",
        "colab": {
          "base_uri": "https://localhost:8080/"
        }
      },
      "source": [
        "Resnet50_Model.compile(loss='categorical_crossentropy', optimizer='rmsprop', metrics=['accuracy'])\n",
        "checkpointer = ModelCheckpoint(filepath='/content/drive/My Drive/weight.hdf5', verbose=1, save_best_only=True)\n",
        "Resnet50_Model.fit(train_Resnet50, train_targets, validation_data=(valid_Resnet50, valid_targets),epochs=20, batch_size=20, callbacks=[checkpointer], verbose=1)\n",
        "Resnet50_Model.load_weights('/content/drive/My Drive/weight.hdf5')\n",
        "resnet50_predictions = [np.argmax(Resnet50_Model.predict(np.expand_dims(feature, axis=0))) for feature in test_Resnet50]\n",
        "test_accuracy = 100*np.sum(np.array(resnet50_predictions)==np.argmax(test_targets, axis=1))/len(resnet50_predictions)\n",
        "print('Test accuracy: %.4f%%' % test_accuracy)"
      ],
      "execution_count": 11,
      "outputs": [
        {
          "output_type": "stream",
          "text": [
            "Epoch 1/20\n",
            "326/334 [============================>.] - ETA: 0s - loss: 0.0973 - accuracy: 0.9706\n",
            "Epoch 00001: val_loss improved from inf to 0.74941, saving model to /content/drive/My Drive/weight.hdf5\n",
            "334/334 [==============================] - 2s 6ms/step - loss: 0.0984 - accuracy: 0.9699 - val_loss: 0.7494 - val_accuracy: 0.8000\n",
            "Epoch 2/20\n",
            "329/334 [============================>.] - ETA: 0s - loss: 0.0688 - accuracy: 0.9787\n",
            "Epoch 00002: val_loss improved from 0.74941 to 0.73390, saving model to /content/drive/My Drive/weight.hdf5\n",
            "334/334 [==============================] - 1s 4ms/step - loss: 0.0688 - accuracy: 0.9787 - val_loss: 0.7339 - val_accuracy: 0.8120\n",
            "Epoch 3/20\n",
            "326/334 [============================>.] - ETA: 0s - loss: 0.0493 - accuracy: 0.9845\n",
            "Epoch 00003: val_loss did not improve from 0.73390\n",
            "334/334 [==============================] - 1s 4ms/step - loss: 0.0491 - accuracy: 0.9843 - val_loss: 0.7600 - val_accuracy: 0.8108\n",
            "Epoch 4/20\n",
            "324/334 [============================>.] - ETA: 0s - loss: 0.0367 - accuracy: 0.9897\n",
            "Epoch 00004: val_loss did not improve from 0.73390\n",
            "334/334 [==============================] - 1s 4ms/step - loss: 0.0382 - accuracy: 0.9892 - val_loss: 0.7346 - val_accuracy: 0.8251\n",
            "Epoch 5/20\n",
            "324/334 [============================>.] - ETA: 0s - loss: 0.0285 - accuracy: 0.9918\n",
            "Epoch 00005: val_loss did not improve from 0.73390\n",
            "334/334 [==============================] - 1s 4ms/step - loss: 0.0297 - accuracy: 0.9916 - val_loss: 0.7614 - val_accuracy: 0.8275\n",
            "Epoch 6/20\n",
            "323/334 [============================>.] - ETA: 0s - loss: 0.0220 - accuracy: 0.9946\n",
            "Epoch 00006: val_loss did not improve from 0.73390\n",
            "334/334 [==============================] - 1s 4ms/step - loss: 0.0219 - accuracy: 0.9946 - val_loss: 0.7968 - val_accuracy: 0.8108\n",
            "Epoch 7/20\n",
            "328/334 [============================>.] - ETA: 0s - loss: 0.0178 - accuracy: 0.9947\n",
            "Epoch 00007: val_loss did not improve from 0.73390\n",
            "334/334 [==============================] - 1s 4ms/step - loss: 0.0181 - accuracy: 0.9946 - val_loss: 0.7872 - val_accuracy: 0.8036\n",
            "Epoch 8/20\n",
            "334/334 [==============================] - ETA: 0s - loss: 0.0147 - accuracy: 0.9958\n",
            "Epoch 00008: val_loss did not improve from 0.73390\n",
            "334/334 [==============================] - 1s 4ms/step - loss: 0.0147 - accuracy: 0.9958 - val_loss: 0.8341 - val_accuracy: 0.8204\n",
            "Epoch 9/20\n",
            "334/334 [==============================] - ETA: 0s - loss: 0.0121 - accuracy: 0.9973\n",
            "Epoch 00009: val_loss did not improve from 0.73390\n",
            "334/334 [==============================] - 2s 5ms/step - loss: 0.0121 - accuracy: 0.9973 - val_loss: 0.8210 - val_accuracy: 0.8347\n",
            "Epoch 10/20\n",
            "330/334 [============================>.] - ETA: 0s - loss: 0.0103 - accuracy: 0.9976\n",
            "Epoch 00010: val_loss did not improve from 0.73390\n",
            "334/334 [==============================] - 1s 4ms/step - loss: 0.0104 - accuracy: 0.9976 - val_loss: 0.8537 - val_accuracy: 0.8180\n",
            "Epoch 11/20\n",
            "326/334 [============================>.] - ETA: 0s - loss: 0.0098 - accuracy: 0.9980\n",
            "Epoch 00011: val_loss did not improve from 0.73390\n",
            "334/334 [==============================] - 1s 4ms/step - loss: 0.0096 - accuracy: 0.9981 - val_loss: 0.8518 - val_accuracy: 0.8311\n",
            "Epoch 12/20\n",
            "334/334 [==============================] - ETA: 0s - loss: 0.0080 - accuracy: 0.9978\n",
            "Epoch 00012: val_loss did not improve from 0.73390\n",
            "334/334 [==============================] - 1s 4ms/step - loss: 0.0080 - accuracy: 0.9978 - val_loss: 0.8940 - val_accuracy: 0.8311\n",
            "Epoch 13/20\n",
            "327/334 [============================>.] - ETA: 0s - loss: 0.0079 - accuracy: 0.9979\n",
            "Epoch 00013: val_loss did not improve from 0.73390\n",
            "334/334 [==============================] - 2s 5ms/step - loss: 0.0078 - accuracy: 0.9979 - val_loss: 0.8824 - val_accuracy: 0.8299\n",
            "Epoch 14/20\n",
            "327/334 [============================>.] - ETA: 0s - loss: 0.0070 - accuracy: 0.9983\n",
            "Epoch 00014: val_loss did not improve from 0.73390\n",
            "334/334 [==============================] - 1s 4ms/step - loss: 0.0070 - accuracy: 0.9984 - val_loss: 0.9384 - val_accuracy: 0.8287\n",
            "Epoch 15/20\n",
            "329/334 [============================>.] - ETA: 0s - loss: 0.0059 - accuracy: 0.9988\n",
            "Epoch 00015: val_loss did not improve from 0.73390\n",
            "334/334 [==============================] - 1s 4ms/step - loss: 0.0058 - accuracy: 0.9988 - val_loss: 0.9027 - val_accuracy: 0.8287\n",
            "Epoch 16/20\n",
            "328/334 [============================>.] - ETA: 0s - loss: 0.0056 - accuracy: 0.9980\n",
            "Epoch 00016: val_loss did not improve from 0.73390\n",
            "334/334 [==============================] - 1s 4ms/step - loss: 0.0072 - accuracy: 0.9979 - val_loss: 0.9198 - val_accuracy: 0.8323\n",
            "Epoch 17/20\n",
            "330/334 [============================>.] - ETA: 0s - loss: 0.0049 - accuracy: 0.9983\n",
            "Epoch 00017: val_loss did not improve from 0.73390\n",
            "334/334 [==============================] - 1s 4ms/step - loss: 0.0049 - accuracy: 0.9984 - val_loss: 0.9429 - val_accuracy: 0.8383\n",
            "Epoch 18/20\n",
            "333/334 [============================>.] - ETA: 0s - loss: 0.0053 - accuracy: 0.9983\n",
            "Epoch 00018: val_loss did not improve from 0.73390\n",
            "334/334 [==============================] - 1s 4ms/step - loss: 0.0053 - accuracy: 0.9984 - val_loss: 1.0071 - val_accuracy: 0.8287\n",
            "Epoch 19/20\n",
            "327/334 [============================>.] - ETA: 0s - loss: 0.0053 - accuracy: 0.9985\n",
            "Epoch 00019: val_loss did not improve from 0.73390\n",
            "334/334 [==============================] - 1s 4ms/step - loss: 0.0056 - accuracy: 0.9984 - val_loss: 1.0488 - val_accuracy: 0.8287\n",
            "Epoch 20/20\n",
            "327/334 [============================>.] - ETA: 0s - loss: 0.0046 - accuracy: 0.9985\n",
            "Epoch 00020: val_loss did not improve from 0.73390\n",
            "334/334 [==============================] - 1s 4ms/step - loss: 0.0045 - accuracy: 0.9985 - val_loss: 1.0206 - val_accuracy: 0.8323\n",
            "Test accuracy: 80.7416%\n"
          ],
          "name": "stdout"
        }
      ]
    },
    {
      "cell_type": "code",
      "metadata": {
        "id": "OGIztAEft_a2"
      },
      "source": [
        "# train_datagen = ImageDataGenerator(rotation_range=5,horizontal_flip=True)"
      ],
      "execution_count": 12,
      "outputs": []
    },
    {
      "cell_type": "code",
      "metadata": {
        "id": "RmTimhS7u12I",
        "outputId": "14513e91-95d4-4b23-b57f-cd7d5e14ff8a",
        "colab": {
          "base_uri": "https://localhost:8080/",
          "height": 429
        }
      },
      "source": [
        "history = Resnet50_Model.fit(train_datagen.flow(train_Resnet50, train_targets,batch_size=20), validation_data=(valid_Resnet50, valid_targets),epochs=30, callbacks=[checkpointer], verbose=1)\n",
        "print(history.history.keys())\n",
        "plt.plot(history.history['accuracy'])\n",
        "plt.plot(history.history['val_accuracy'])\n",
        "plt.title('model accuracy')\n",
        "plt.ylabel('accuracy')\n",
        "plt.xlabel('epoch')\n",
        "plt.legend(['train', 'test'], loc='upper left')\n",
        "plt.show()\n",
        "plt.plot(history.history['loss'])\n",
        "plt.plot(history.history['val_loss'])\n",
        "plt.title('model loss')\n",
        "plt.ylabel('loss')\n",
        "plt.xlabel('epoch')\n",
        "plt.legend(['train', 'test'], loc='upper left')\n",
        "plt.show()"
      ],
      "execution_count": 19,
      "outputs": [
        {
          "output_type": "stream",
          "text": [
            "/usr/local/lib/python3.6/dist-packages/keras_preprocessing/image/numpy_array_iterator.py:136: UserWarning: NumpyArrayIterator is set to use the data format convention \"channels_last\" (channels on axis 3), i.e. expected either 1, 3, or 4 channels on axis 3. However, it was passed an array with shape (6680, 1, 1, 2048) (2048 channels).\n",
            "  str(self.x.shape[channels_axis]) + ' channels).')\n"
          ],
          "name": "stderr"
        },
        {
          "output_type": "error",
          "ename": "ValueError",
          "evalue": "ignored",
          "traceback": [
            "\u001b[0;31m---------------------------------------------------------------------------\u001b[0m",
            "\u001b[0;31mValueError\u001b[0m                                Traceback (most recent call last)",
            "\u001b[0;32m<ipython-input-19-46dcca519735>\u001b[0m in \u001b[0;36m<module>\u001b[0;34m()\u001b[0m\n\u001b[0;32m----> 1\u001b[0;31m \u001b[0mhistory\u001b[0m \u001b[0;34m=\u001b[0m \u001b[0mResnet50_Model\u001b[0m\u001b[0;34m.\u001b[0m\u001b[0mfit\u001b[0m\u001b[0;34m(\u001b[0m\u001b[0mtrain_datagen\u001b[0m\u001b[0;34m.\u001b[0m\u001b[0mflow\u001b[0m\u001b[0;34m(\u001b[0m\u001b[0mtrain_Resnet50\u001b[0m\u001b[0;34m,\u001b[0m \u001b[0mtrain_targets\u001b[0m\u001b[0;34m,\u001b[0m\u001b[0mbatch_size\u001b[0m\u001b[0;34m=\u001b[0m\u001b[0;36m20\u001b[0m\u001b[0;34m)\u001b[0m\u001b[0;34m,\u001b[0m \u001b[0mvalidation_data\u001b[0m\u001b[0;34m=\u001b[0m\u001b[0;34m(\u001b[0m\u001b[0mvalid_Resnet50\u001b[0m\u001b[0;34m,\u001b[0m \u001b[0mvalid_targets\u001b[0m\u001b[0;34m)\u001b[0m\u001b[0;34m,\u001b[0m\u001b[0mepochs\u001b[0m\u001b[0;34m=\u001b[0m\u001b[0;36m30\u001b[0m\u001b[0;34m,\u001b[0m \u001b[0mcallbacks\u001b[0m\u001b[0;34m=\u001b[0m\u001b[0;34m[\u001b[0m\u001b[0mcheckpointer\u001b[0m\u001b[0;34m]\u001b[0m\u001b[0;34m,\u001b[0m \u001b[0mverbose\u001b[0m\u001b[0;34m=\u001b[0m\u001b[0;36m1\u001b[0m\u001b[0;34m)\u001b[0m\u001b[0;34m\u001b[0m\u001b[0;34m\u001b[0m\u001b[0m\n\u001b[0m\u001b[1;32m      2\u001b[0m \u001b[0mprint\u001b[0m\u001b[0;34m(\u001b[0m\u001b[0mhistory\u001b[0m\u001b[0;34m.\u001b[0m\u001b[0mhistory\u001b[0m\u001b[0;34m.\u001b[0m\u001b[0mkeys\u001b[0m\u001b[0;34m(\u001b[0m\u001b[0;34m)\u001b[0m\u001b[0;34m)\u001b[0m\u001b[0;34m\u001b[0m\u001b[0;34m\u001b[0m\u001b[0m\n\u001b[1;32m      3\u001b[0m \u001b[0mplt\u001b[0m\u001b[0;34m.\u001b[0m\u001b[0mplot\u001b[0m\u001b[0;34m(\u001b[0m\u001b[0mhistory\u001b[0m\u001b[0;34m.\u001b[0m\u001b[0mhistory\u001b[0m\u001b[0;34m[\u001b[0m\u001b[0;34m'accuracy'\u001b[0m\u001b[0;34m]\u001b[0m\u001b[0;34m)\u001b[0m\u001b[0;34m\u001b[0m\u001b[0;34m\u001b[0m\u001b[0m\n\u001b[1;32m      4\u001b[0m \u001b[0mplt\u001b[0m\u001b[0;34m.\u001b[0m\u001b[0mplot\u001b[0m\u001b[0;34m(\u001b[0m\u001b[0mhistory\u001b[0m\u001b[0;34m.\u001b[0m\u001b[0mhistory\u001b[0m\u001b[0;34m[\u001b[0m\u001b[0;34m'val_accuracy'\u001b[0m\u001b[0;34m]\u001b[0m\u001b[0;34m)\u001b[0m\u001b[0;34m\u001b[0m\u001b[0;34m\u001b[0m\u001b[0m\n\u001b[1;32m      5\u001b[0m \u001b[0mplt\u001b[0m\u001b[0;34m.\u001b[0m\u001b[0mtitle\u001b[0m\u001b[0;34m(\u001b[0m\u001b[0;34m'model accuracy'\u001b[0m\u001b[0;34m)\u001b[0m\u001b[0;34m\u001b[0m\u001b[0;34m\u001b[0m\u001b[0m\n",
            "\u001b[0;32m/usr/local/lib/python3.6/dist-packages/tensorflow/python/keras/engine/training.py\u001b[0m in \u001b[0;36m_method_wrapper\u001b[0;34m(self, *args, **kwargs)\u001b[0m\n\u001b[1;32m    106\u001b[0m   \u001b[0;32mdef\u001b[0m \u001b[0m_method_wrapper\u001b[0m\u001b[0;34m(\u001b[0m\u001b[0mself\u001b[0m\u001b[0;34m,\u001b[0m \u001b[0;34m*\u001b[0m\u001b[0margs\u001b[0m\u001b[0;34m,\u001b[0m \u001b[0;34m**\u001b[0m\u001b[0mkwargs\u001b[0m\u001b[0;34m)\u001b[0m\u001b[0;34m:\u001b[0m\u001b[0;34m\u001b[0m\u001b[0;34m\u001b[0m\u001b[0m\n\u001b[1;32m    107\u001b[0m     \u001b[0;32mif\u001b[0m \u001b[0;32mnot\u001b[0m \u001b[0mself\u001b[0m\u001b[0;34m.\u001b[0m\u001b[0m_in_multi_worker_mode\u001b[0m\u001b[0;34m(\u001b[0m\u001b[0;34m)\u001b[0m\u001b[0;34m:\u001b[0m  \u001b[0;31m# pylint: disable=protected-access\u001b[0m\u001b[0;34m\u001b[0m\u001b[0;34m\u001b[0m\u001b[0m\n\u001b[0;32m--> 108\u001b[0;31m       \u001b[0;32mreturn\u001b[0m \u001b[0mmethod\u001b[0m\u001b[0;34m(\u001b[0m\u001b[0mself\u001b[0m\u001b[0;34m,\u001b[0m \u001b[0;34m*\u001b[0m\u001b[0margs\u001b[0m\u001b[0;34m,\u001b[0m \u001b[0;34m**\u001b[0m\u001b[0mkwargs\u001b[0m\u001b[0;34m)\u001b[0m\u001b[0;34m\u001b[0m\u001b[0;34m\u001b[0m\u001b[0m\n\u001b[0m\u001b[1;32m    109\u001b[0m \u001b[0;34m\u001b[0m\u001b[0m\n\u001b[1;32m    110\u001b[0m     \u001b[0;31m# Running inside `run_distribute_coordinator` already.\u001b[0m\u001b[0;34m\u001b[0m\u001b[0;34m\u001b[0m\u001b[0;34m\u001b[0m\u001b[0m\n",
            "\u001b[0;32m/usr/local/lib/python3.6/dist-packages/tensorflow/python/keras/engine/training.py\u001b[0m in \u001b[0;36mfit\u001b[0;34m(self, x, y, batch_size, epochs, verbose, callbacks, validation_split, validation_data, shuffle, class_weight, sample_weight, initial_epoch, steps_per_epoch, validation_steps, validation_batch_size, validation_freq, max_queue_size, workers, use_multiprocessing)\u001b[0m\n\u001b[1;32m   1061\u001b[0m           \u001b[0muse_multiprocessing\u001b[0m\u001b[0;34m=\u001b[0m\u001b[0muse_multiprocessing\u001b[0m\u001b[0;34m,\u001b[0m\u001b[0;34m\u001b[0m\u001b[0;34m\u001b[0m\u001b[0m\n\u001b[1;32m   1062\u001b[0m           \u001b[0mmodel\u001b[0m\u001b[0;34m=\u001b[0m\u001b[0mself\u001b[0m\u001b[0;34m,\u001b[0m\u001b[0;34m\u001b[0m\u001b[0;34m\u001b[0m\u001b[0m\n\u001b[0;32m-> 1063\u001b[0;31m           steps_per_execution=self._steps_per_execution)\n\u001b[0m\u001b[1;32m   1064\u001b[0m \u001b[0;34m\u001b[0m\u001b[0m\n\u001b[1;32m   1065\u001b[0m       \u001b[0;31m# Container that configures and calls `tf.keras.Callback`s.\u001b[0m\u001b[0;34m\u001b[0m\u001b[0;34m\u001b[0m\u001b[0;34m\u001b[0m\u001b[0m\n",
            "\u001b[0;32m/usr/local/lib/python3.6/dist-packages/tensorflow/python/keras/engine/data_adapter.py\u001b[0m in \u001b[0;36m__init__\u001b[0;34m(self, x, y, sample_weight, batch_size, steps_per_epoch, initial_epoch, epochs, shuffle, class_weight, max_queue_size, workers, use_multiprocessing, model, steps_per_execution)\u001b[0m\n\u001b[1;32m   1115\u001b[0m         \u001b[0muse_multiprocessing\u001b[0m\u001b[0;34m=\u001b[0m\u001b[0muse_multiprocessing\u001b[0m\u001b[0;34m,\u001b[0m\u001b[0;34m\u001b[0m\u001b[0;34m\u001b[0m\u001b[0m\n\u001b[1;32m   1116\u001b[0m         \u001b[0mdistribution_strategy\u001b[0m\u001b[0;34m=\u001b[0m\u001b[0mds_context\u001b[0m\u001b[0;34m.\u001b[0m\u001b[0mget_strategy\u001b[0m\u001b[0;34m(\u001b[0m\u001b[0;34m)\u001b[0m\u001b[0;34m,\u001b[0m\u001b[0;34m\u001b[0m\u001b[0;34m\u001b[0m\u001b[0m\n\u001b[0;32m-> 1117\u001b[0;31m         model=model)\n\u001b[0m\u001b[1;32m   1118\u001b[0m \u001b[0;34m\u001b[0m\u001b[0m\n\u001b[1;32m   1119\u001b[0m     \u001b[0mstrategy\u001b[0m \u001b[0;34m=\u001b[0m \u001b[0mds_context\u001b[0m\u001b[0;34m.\u001b[0m\u001b[0mget_strategy\u001b[0m\u001b[0;34m(\u001b[0m\u001b[0;34m)\u001b[0m\u001b[0;34m\u001b[0m\u001b[0;34m\u001b[0m\u001b[0m\n",
            "\u001b[0;32m/usr/local/lib/python3.6/dist-packages/tensorflow/python/keras/engine/data_adapter.py\u001b[0m in \u001b[0;36m__init__\u001b[0;34m(self, x, y, sample_weights, shuffle, workers, use_multiprocessing, max_queue_size, model, **kwargs)\u001b[0m\n\u001b[1;32m    914\u001b[0m         \u001b[0mmax_queue_size\u001b[0m\u001b[0;34m=\u001b[0m\u001b[0mmax_queue_size\u001b[0m\u001b[0;34m,\u001b[0m\u001b[0;34m\u001b[0m\u001b[0;34m\u001b[0m\u001b[0m\n\u001b[1;32m    915\u001b[0m         \u001b[0mmodel\u001b[0m\u001b[0;34m=\u001b[0m\u001b[0mmodel\u001b[0m\u001b[0;34m,\u001b[0m\u001b[0;34m\u001b[0m\u001b[0;34m\u001b[0m\u001b[0m\n\u001b[0;32m--> 916\u001b[0;31m         **kwargs)\n\u001b[0m\u001b[1;32m    917\u001b[0m \u001b[0;34m\u001b[0m\u001b[0m\n\u001b[1;32m    918\u001b[0m   \u001b[0;34m@\u001b[0m\u001b[0mstaticmethod\u001b[0m\u001b[0;34m\u001b[0m\u001b[0;34m\u001b[0m\u001b[0m\n",
            "\u001b[0;32m/usr/local/lib/python3.6/dist-packages/tensorflow/python/keras/engine/data_adapter.py\u001b[0m in \u001b[0;36m__init__\u001b[0;34m(self, x, y, sample_weights, workers, use_multiprocessing, max_queue_size, model, **kwargs)\u001b[0m\n\u001b[1;32m    784\u001b[0m     \u001b[0;31m# Since we have to know the dtype of the python generator when we build the\u001b[0m\u001b[0;34m\u001b[0m\u001b[0;34m\u001b[0m\u001b[0;34m\u001b[0m\u001b[0m\n\u001b[1;32m    785\u001b[0m     \u001b[0;31m# dataset, we have to look at a batch to infer the structure.\u001b[0m\u001b[0;34m\u001b[0m\u001b[0;34m\u001b[0m\u001b[0;34m\u001b[0m\u001b[0m\n\u001b[0;32m--> 786\u001b[0;31m     \u001b[0mpeek\u001b[0m\u001b[0;34m,\u001b[0m \u001b[0mx\u001b[0m \u001b[0;34m=\u001b[0m \u001b[0mself\u001b[0m\u001b[0;34m.\u001b[0m\u001b[0m_peek_and_restore\u001b[0m\u001b[0;34m(\u001b[0m\u001b[0mx\u001b[0m\u001b[0;34m)\u001b[0m\u001b[0;34m\u001b[0m\u001b[0;34m\u001b[0m\u001b[0m\n\u001b[0m\u001b[1;32m    787\u001b[0m     \u001b[0mpeek\u001b[0m \u001b[0;34m=\u001b[0m \u001b[0mself\u001b[0m\u001b[0;34m.\u001b[0m\u001b[0m_standardize_batch\u001b[0m\u001b[0;34m(\u001b[0m\u001b[0mpeek\u001b[0m\u001b[0;34m)\u001b[0m\u001b[0;34m\u001b[0m\u001b[0;34m\u001b[0m\u001b[0m\n\u001b[1;32m    788\u001b[0m     \u001b[0mpeek\u001b[0m \u001b[0;34m=\u001b[0m \u001b[0m_process_tensorlike\u001b[0m\u001b[0;34m(\u001b[0m\u001b[0mpeek\u001b[0m\u001b[0;34m)\u001b[0m\u001b[0;34m\u001b[0m\u001b[0;34m\u001b[0m\u001b[0m\n",
            "\u001b[0;32m/usr/local/lib/python3.6/dist-packages/tensorflow/python/keras/engine/data_adapter.py\u001b[0m in \u001b[0;36m_peek_and_restore\u001b[0;34m(x)\u001b[0m\n\u001b[1;32m    918\u001b[0m   \u001b[0;34m@\u001b[0m\u001b[0mstaticmethod\u001b[0m\u001b[0;34m\u001b[0m\u001b[0;34m\u001b[0m\u001b[0m\n\u001b[1;32m    919\u001b[0m   \u001b[0;32mdef\u001b[0m \u001b[0m_peek_and_restore\u001b[0m\u001b[0;34m(\u001b[0m\u001b[0mx\u001b[0m\u001b[0;34m)\u001b[0m\u001b[0;34m:\u001b[0m\u001b[0;34m\u001b[0m\u001b[0;34m\u001b[0m\u001b[0m\n\u001b[0;32m--> 920\u001b[0;31m     \u001b[0;32mreturn\u001b[0m \u001b[0mx\u001b[0m\u001b[0;34m[\u001b[0m\u001b[0;36m0\u001b[0m\u001b[0;34m]\u001b[0m\u001b[0;34m,\u001b[0m \u001b[0mx\u001b[0m\u001b[0;34m\u001b[0m\u001b[0;34m\u001b[0m\u001b[0m\n\u001b[0m\u001b[1;32m    921\u001b[0m \u001b[0;34m\u001b[0m\u001b[0m\n\u001b[1;32m    922\u001b[0m   def _handle_multiprocessing(self, x, workers, use_multiprocessing,\n",
            "\u001b[0;32m/usr/local/lib/python3.6/dist-packages/keras_preprocessing/image/iterator.py\u001b[0m in \u001b[0;36m__getitem__\u001b[0;34m(self, idx)\u001b[0m\n\u001b[1;32m     63\u001b[0m         index_array = self.index_array[self.batch_size * idx:\n\u001b[1;32m     64\u001b[0m                                        self.batch_size * (idx + 1)]\n\u001b[0;32m---> 65\u001b[0;31m         \u001b[0;32mreturn\u001b[0m \u001b[0mself\u001b[0m\u001b[0;34m.\u001b[0m\u001b[0m_get_batches_of_transformed_samples\u001b[0m\u001b[0;34m(\u001b[0m\u001b[0mindex_array\u001b[0m\u001b[0;34m)\u001b[0m\u001b[0;34m\u001b[0m\u001b[0;34m\u001b[0m\u001b[0m\n\u001b[0m\u001b[1;32m     66\u001b[0m \u001b[0;34m\u001b[0m\u001b[0m\n\u001b[1;32m     67\u001b[0m     \u001b[0;32mdef\u001b[0m \u001b[0m__len__\u001b[0m\u001b[0;34m(\u001b[0m\u001b[0mself\u001b[0m\u001b[0;34m)\u001b[0m\u001b[0;34m:\u001b[0m\u001b[0;34m\u001b[0m\u001b[0;34m\u001b[0m\u001b[0m\n",
            "\u001b[0;32m/usr/local/lib/python3.6/dist-packages/keras_preprocessing/image/numpy_array_iterator.py\u001b[0m in \u001b[0;36m_get_batches_of_transformed_samples\u001b[0;34m(self, index_array)\u001b[0m\n\u001b[1;32m    160\u001b[0m             \u001b[0mparams\u001b[0m \u001b[0;34m=\u001b[0m \u001b[0mself\u001b[0m\u001b[0;34m.\u001b[0m\u001b[0mimage_data_generator\u001b[0m\u001b[0;34m.\u001b[0m\u001b[0mget_random_transform\u001b[0m\u001b[0;34m(\u001b[0m\u001b[0mx\u001b[0m\u001b[0;34m.\u001b[0m\u001b[0mshape\u001b[0m\u001b[0;34m)\u001b[0m\u001b[0;34m\u001b[0m\u001b[0;34m\u001b[0m\u001b[0m\n\u001b[1;32m    161\u001b[0m             x = self.image_data_generator.apply_transform(\n\u001b[0;32m--> 162\u001b[0;31m                 x.astype(self.dtype), params)\n\u001b[0m\u001b[1;32m    163\u001b[0m             \u001b[0mx\u001b[0m \u001b[0;34m=\u001b[0m \u001b[0mself\u001b[0m\u001b[0;34m.\u001b[0m\u001b[0mimage_data_generator\u001b[0m\u001b[0;34m.\u001b[0m\u001b[0mstandardize\u001b[0m\u001b[0;34m(\u001b[0m\u001b[0mx\u001b[0m\u001b[0;34m)\u001b[0m\u001b[0;34m\u001b[0m\u001b[0;34m\u001b[0m\u001b[0m\n\u001b[1;32m    164\u001b[0m             \u001b[0mbatch_x\u001b[0m\u001b[0;34m[\u001b[0m\u001b[0mi\u001b[0m\u001b[0;34m]\u001b[0m \u001b[0;34m=\u001b[0m \u001b[0mx\u001b[0m\u001b[0;34m\u001b[0m\u001b[0;34m\u001b[0m\u001b[0m\n",
            "\u001b[0;32m/usr/local/lib/python3.6/dist-packages/keras_preprocessing/image/image_data_generator.py\u001b[0m in \u001b[0;36mapply_transform\u001b[0;34m(self, x, transform_parameters)\u001b[0m\n\u001b[1;32m    886\u001b[0m \u001b[0;34m\u001b[0m\u001b[0m\n\u001b[1;32m    887\u001b[0m         \u001b[0;32mif\u001b[0m \u001b[0mtransform_parameters\u001b[0m\u001b[0;34m.\u001b[0m\u001b[0mget\u001b[0m\u001b[0;34m(\u001b[0m\u001b[0;34m'brightness'\u001b[0m\u001b[0;34m)\u001b[0m \u001b[0;32mis\u001b[0m \u001b[0;32mnot\u001b[0m \u001b[0;32mNone\u001b[0m\u001b[0;34m:\u001b[0m\u001b[0;34m\u001b[0m\u001b[0;34m\u001b[0m\u001b[0m\n\u001b[0;32m--> 888\u001b[0;31m             \u001b[0mx\u001b[0m \u001b[0;34m=\u001b[0m \u001b[0mapply_brightness_shift\u001b[0m\u001b[0;34m(\u001b[0m\u001b[0mx\u001b[0m\u001b[0;34m,\u001b[0m \u001b[0mtransform_parameters\u001b[0m\u001b[0;34m[\u001b[0m\u001b[0;34m'brightness'\u001b[0m\u001b[0;34m]\u001b[0m\u001b[0;34m)\u001b[0m\u001b[0;34m\u001b[0m\u001b[0;34m\u001b[0m\u001b[0m\n\u001b[0m\u001b[1;32m    889\u001b[0m \u001b[0;34m\u001b[0m\u001b[0m\n\u001b[1;32m    890\u001b[0m         \u001b[0;32mreturn\u001b[0m \u001b[0mx\u001b[0m\u001b[0;34m\u001b[0m\u001b[0;34m\u001b[0m\u001b[0m\n",
            "\u001b[0;32m/usr/local/lib/python3.6/dist-packages/keras_preprocessing/image/affine_transformations.py\u001b[0m in \u001b[0;36mapply_brightness_shift\u001b[0;34m(x, brightness)\u001b[0m\n\u001b[1;32m    213\u001b[0m         raise ImportError('Using brightness shifts requires PIL. '\n\u001b[1;32m    214\u001b[0m                           'Install PIL or Pillow.')\n\u001b[0;32m--> 215\u001b[0;31m     \u001b[0mx\u001b[0m \u001b[0;34m=\u001b[0m \u001b[0marray_to_img\u001b[0m\u001b[0;34m(\u001b[0m\u001b[0mx\u001b[0m\u001b[0;34m)\u001b[0m\u001b[0;34m\u001b[0m\u001b[0;34m\u001b[0m\u001b[0m\n\u001b[0m\u001b[1;32m    216\u001b[0m     \u001b[0mx\u001b[0m \u001b[0;34m=\u001b[0m \u001b[0mimgenhancer_Brightness\u001b[0m \u001b[0;34m=\u001b[0m \u001b[0mImageEnhance\u001b[0m\u001b[0;34m.\u001b[0m\u001b[0mBrightness\u001b[0m\u001b[0;34m(\u001b[0m\u001b[0mx\u001b[0m\u001b[0;34m)\u001b[0m\u001b[0;34m\u001b[0m\u001b[0;34m\u001b[0m\u001b[0m\n\u001b[1;32m    217\u001b[0m     \u001b[0mx\u001b[0m \u001b[0;34m=\u001b[0m \u001b[0mimgenhancer_Brightness\u001b[0m\u001b[0;34m.\u001b[0m\u001b[0menhance\u001b[0m\u001b[0;34m(\u001b[0m\u001b[0mbrightness\u001b[0m\u001b[0;34m)\u001b[0m\u001b[0;34m\u001b[0m\u001b[0;34m\u001b[0m\u001b[0m\n",
            "\u001b[0;32m/usr/local/lib/python3.6/dist-packages/keras_preprocessing/image/utils.py\u001b[0m in \u001b[0;36marray_to_img\u001b[0;34m(x, data_format, scale, dtype)\u001b[0m\n\u001b[1;32m    284\u001b[0m         \u001b[0;32mreturn\u001b[0m \u001b[0mpil_image\u001b[0m\u001b[0;34m.\u001b[0m\u001b[0mfromarray\u001b[0m\u001b[0;34m(\u001b[0m\u001b[0mx\u001b[0m\u001b[0;34m[\u001b[0m\u001b[0;34m:\u001b[0m\u001b[0;34m,\u001b[0m \u001b[0;34m:\u001b[0m\u001b[0;34m,\u001b[0m \u001b[0;36m0\u001b[0m\u001b[0;34m]\u001b[0m\u001b[0;34m.\u001b[0m\u001b[0mastype\u001b[0m\u001b[0;34m(\u001b[0m\u001b[0;34m'uint8'\u001b[0m\u001b[0;34m)\u001b[0m\u001b[0;34m,\u001b[0m \u001b[0;34m'L'\u001b[0m\u001b[0;34m)\u001b[0m\u001b[0;34m\u001b[0m\u001b[0;34m\u001b[0m\u001b[0m\n\u001b[1;32m    285\u001b[0m     \u001b[0;32melse\u001b[0m\u001b[0;34m:\u001b[0m\u001b[0;34m\u001b[0m\u001b[0;34m\u001b[0m\u001b[0m\n\u001b[0;32m--> 286\u001b[0;31m         \u001b[0;32mraise\u001b[0m \u001b[0mValueError\u001b[0m\u001b[0;34m(\u001b[0m\u001b[0;34m'Unsupported channel number: %s'\u001b[0m \u001b[0;34m%\u001b[0m \u001b[0;34m(\u001b[0m\u001b[0mx\u001b[0m\u001b[0;34m.\u001b[0m\u001b[0mshape\u001b[0m\u001b[0;34m[\u001b[0m\u001b[0;36m2\u001b[0m\u001b[0;34m]\u001b[0m\u001b[0;34m,\u001b[0m\u001b[0;34m)\u001b[0m\u001b[0;34m)\u001b[0m\u001b[0;34m\u001b[0m\u001b[0;34m\u001b[0m\u001b[0m\n\u001b[0m\u001b[1;32m    287\u001b[0m \u001b[0;34m\u001b[0m\u001b[0m\n\u001b[1;32m    288\u001b[0m \u001b[0;34m\u001b[0m\u001b[0m\n",
            "\u001b[0;31mValueError\u001b[0m: Unsupported channel number: 2048"
          ]
        }
      ]
    },
    {
      "cell_type": "code",
      "metadata": {
        "id": "0_8GieH-uHBY"
      },
      "source": [
        "train_datagen = ImageDataGenerator(rescale=1./255,brightness_range=[0.9,1.1],width_shift_range=0.05,height_shift_range=0.05,horizontal_flip=True)\n",
        "test_datagen = ImageDataGenerator(rescale=1./255)\n",
        "train_generator = train_datagen.flow_from_directory('dogImages/train',target_size=(224, 224),batch_size=batch_size,class_mode='categorical')\n",
        "validation_generator = test_datagen.flow_from_directory('dogImages/valid',target_size=(224, 224),batch_size=batch_size,class_mode='categorical')\n",
        "history = Resnet50Model.fit(train_Resnet50, train_targets, validation_data=(valid_Resnet50, valid_targets),epochs=20, batch_size=20, callbacks=[checkpointer], verbose=1)"
      ],
      "execution_count": null,
      "outputs": []
    },
    {
      "cell_type": "code",
      "metadata": {
        "id": "0Br3vqMrvAQR",
        "outputId": "fd3afd27-303d-449b-9eeb-b19bc406e422",
        "colab": {
          "base_uri": "https://localhost:8080/",
          "height": 1000
        }
      },
      "source": [
        "checkpointer = ModelCheckpoint(filepath='/content/drive/My Drive/weight.hdf5', verbose=1, save_best_only=True)\n",
        "history = Resnet50Model.fit(train_Resnet50, train_targets, validation_data=(valid_Resnet50, valid_targets),epochs=20, batch_size=20, callbacks=[checkpointer], verbose=1)\n",
        "print(history.history.keys())\n",
        "plt.plot(history.history['accuracy'])\n",
        "plt.plot(history.history['val_accuracy'])\n",
        "plt.title('model accuracy')\n",
        "plt.ylabel('accuracy')\n",
        "plt.xlabel('epoch')\n",
        "plt.legend(['train', 'test'], loc='upper left')\n",
        "plt.show()\n",
        "plt.plot(history.history['loss'])\n",
        "plt.plot(history.history['val_loss'])\n",
        "plt.title('model loss')\n",
        "plt.ylabel('loss')\n",
        "plt.xlabel('epoch')\n",
        "plt.legend(['train', 'test'], loc='upper left')\n",
        "plt.show()"
      ],
      "execution_count": 26,
      "outputs": [
        {
          "output_type": "stream",
          "text": [
            "Epoch 1/20\n",
            "328/334 [============================>.] - ETA: 0s - loss: 0.0950 - accuracy: 0.9712\n",
            "Epoch 00001: val_loss improved from inf to 0.72972, saving model to /content/drive/My Drive/weight.hdf5\n",
            "334/334 [==============================] - 2s 7ms/step - loss: 0.0946 - accuracy: 0.9713 - val_loss: 0.7297 - val_accuracy: 0.8192\n",
            "Epoch 2/20\n",
            "329/334 [============================>.] - ETA: 0s - loss: 0.0651 - accuracy: 0.9798\n",
            "Epoch 00002: val_loss improved from 0.72972 to 0.66180, saving model to /content/drive/My Drive/weight.hdf5\n",
            "334/334 [==============================] - 2s 5ms/step - loss: 0.0645 - accuracy: 0.9801 - val_loss: 0.6618 - val_accuracy: 0.8240\n",
            "Epoch 3/20\n",
            "324/334 [============================>.] - ETA: 0s - loss: 0.0493 - accuracy: 0.9867\n",
            "Epoch 00003: val_loss did not improve from 0.66180\n",
            "334/334 [==============================] - 2s 5ms/step - loss: 0.0489 - accuracy: 0.9868 - val_loss: 0.7502 - val_accuracy: 0.8012\n",
            "Epoch 4/20\n",
            "327/334 [============================>.] - ETA: 0s - loss: 0.0380 - accuracy: 0.9885\n",
            "Epoch 00004: val_loss did not improve from 0.66180\n",
            "334/334 [==============================] - 2s 5ms/step - loss: 0.0377 - accuracy: 0.9888 - val_loss: 0.7674 - val_accuracy: 0.8168\n",
            "Epoch 5/20\n",
            "334/334 [==============================] - ETA: 0s - loss: 0.0291 - accuracy: 0.9918\n",
            "Epoch 00005: val_loss did not improve from 0.66180\n",
            "334/334 [==============================] - 2s 5ms/step - loss: 0.0291 - accuracy: 0.9918 - val_loss: 0.7670 - val_accuracy: 0.8204\n",
            "Epoch 6/20\n",
            "333/334 [============================>.] - ETA: 0s - loss: 0.0233 - accuracy: 0.9934\n",
            "Epoch 00006: val_loss did not improve from 0.66180\n",
            "334/334 [==============================] - 2s 5ms/step - loss: 0.0233 - accuracy: 0.9934 - val_loss: 0.7381 - val_accuracy: 0.8275\n",
            "Epoch 7/20\n",
            "327/334 [============================>.] - ETA: 0s - loss: 0.0163 - accuracy: 0.9953\n",
            "Epoch 00007: val_loss did not improve from 0.66180\n",
            "334/334 [==============================] - 2s 5ms/step - loss: 0.0161 - accuracy: 0.9954 - val_loss: 0.8175 - val_accuracy: 0.8120\n",
            "Epoch 8/20\n",
            "323/334 [============================>.] - ETA: 0s - loss: 0.0136 - accuracy: 0.9967\n",
            "Epoch 00008: val_loss did not improve from 0.66180\n",
            "334/334 [==============================] - 2s 5ms/step - loss: 0.0135 - accuracy: 0.9969 - val_loss: 0.7625 - val_accuracy: 0.8251\n",
            "Epoch 9/20\n",
            "329/334 [============================>.] - ETA: 0s - loss: 0.0127 - accuracy: 0.9962\n",
            "Epoch 00009: val_loss did not improve from 0.66180\n",
            "334/334 [==============================] - 2s 5ms/step - loss: 0.0126 - accuracy: 0.9963 - val_loss: 0.8561 - val_accuracy: 0.8275\n",
            "Epoch 10/20\n",
            "331/334 [============================>.] - ETA: 0s - loss: 0.0095 - accuracy: 0.9974\n",
            "Epoch 00010: val_loss did not improve from 0.66180\n",
            "334/334 [==============================] - 2s 5ms/step - loss: 0.0095 - accuracy: 0.9975 - val_loss: 0.8618 - val_accuracy: 0.8287\n",
            "Epoch 11/20\n",
            "333/334 [============================>.] - ETA: 0s - loss: 0.0103 - accuracy: 0.9971\n",
            "Epoch 00011: val_loss did not improve from 0.66180\n",
            "334/334 [==============================] - 2s 5ms/step - loss: 0.0103 - accuracy: 0.9972 - val_loss: 0.8372 - val_accuracy: 0.8180\n",
            "Epoch 12/20\n",
            "332/334 [============================>.] - ETA: 0s - loss: 0.0076 - accuracy: 0.9979\n",
            "Epoch 00012: val_loss did not improve from 0.66180\n",
            "334/334 [==============================] - 1s 4ms/step - loss: 0.0076 - accuracy: 0.9979 - val_loss: 0.8821 - val_accuracy: 0.8251\n",
            "Epoch 13/20\n",
            "328/334 [============================>.] - ETA: 0s - loss: 0.0066 - accuracy: 0.9980\n",
            "Epoch 00013: val_loss did not improve from 0.66180\n",
            "334/334 [==============================] - 2s 5ms/step - loss: 0.0065 - accuracy: 0.9981 - val_loss: 0.8782 - val_accuracy: 0.8323\n",
            "Epoch 14/20\n",
            "327/334 [============================>.] - ETA: 0s - loss: 0.0058 - accuracy: 0.9982\n",
            "Epoch 00014: val_loss did not improve from 0.66180\n",
            "334/334 [==============================] - 2s 5ms/step - loss: 0.0058 - accuracy: 0.9982 - val_loss: 0.9190 - val_accuracy: 0.8311\n",
            "Epoch 15/20\n",
            "334/334 [==============================] - ETA: 0s - loss: 0.0058 - accuracy: 0.9982\n",
            "Epoch 00015: val_loss did not improve from 0.66180\n",
            "334/334 [==============================] - 2s 5ms/step - loss: 0.0058 - accuracy: 0.9982 - val_loss: 0.9370 - val_accuracy: 0.8263\n",
            "Epoch 16/20\n",
            "331/334 [============================>.] - ETA: 0s - loss: 0.0060 - accuracy: 0.9982\n",
            "Epoch 00016: val_loss did not improve from 0.66180\n",
            "334/334 [==============================] - 1s 4ms/step - loss: 0.0060 - accuracy: 0.9982 - val_loss: 0.9844 - val_accuracy: 0.8287\n",
            "Epoch 17/20\n",
            "334/334 [==============================] - ETA: 0s - loss: 0.0044 - accuracy: 0.9987\n",
            "Epoch 00017: val_loss did not improve from 0.66180\n",
            "334/334 [==============================] - 1s 4ms/step - loss: 0.0044 - accuracy: 0.9987 - val_loss: 0.9990 - val_accuracy: 0.8299\n",
            "Epoch 18/20\n",
            "329/334 [============================>.] - ETA: 0s - loss: 0.0046 - accuracy: 0.9989\n",
            "Epoch 00018: val_loss did not improve from 0.66180\n",
            "334/334 [==============================] - 1s 4ms/step - loss: 0.0045 - accuracy: 0.9990 - val_loss: 0.9921 - val_accuracy: 0.8323\n",
            "Epoch 19/20\n",
            "328/334 [============================>.] - ETA: 0s - loss: 0.0051 - accuracy: 0.9985\n",
            "Epoch 00019: val_loss did not improve from 0.66180\n",
            "334/334 [==============================] - 2s 5ms/step - loss: 0.0050 - accuracy: 0.9985 - val_loss: 1.0014 - val_accuracy: 0.8323\n",
            "Epoch 20/20\n",
            "327/334 [============================>.] - ETA: 0s - loss: 0.0039 - accuracy: 0.9985\n",
            "Epoch 00020: val_loss did not improve from 0.66180\n",
            "334/334 [==============================] - 1s 4ms/step - loss: 0.0047 - accuracy: 0.9982 - val_loss: 1.0241 - val_accuracy: 0.8347\n",
            "dict_keys(['loss', 'accuracy', 'val_loss', 'val_accuracy'])\n"
          ],
          "name": "stdout"
        },
        {
          "output_type": "display_data",
          "data": {
            "image/png": "[encoded data removed]",
            "text/plain": [
              "<Figure size 432x288 with 1 Axes>"
            ]
          },
          "metadata": {
            "tags": [],
            "needs_background": "light"
          }
        },
        {
          "output_type": "display_data",
          "data": {
            "image/png": "[encoded data removed]",
            "text/plain": [
              "<Figure size 432x288 with 1 Axes>"
            ]
          },
          "metadata": {
            "tags": [],
            "needs_background": "light"
          }
        }
      ]
    },
    {
      "cell_type": "code",
      "metadata": {
        "id": "EddOXtJXUSUK",
        "outputId": "243c2a7a-57e2-49e1-f451-45dd0c223ce9",
        "colab": {
          "base_uri": "https://localhost:8080/"
        }
      },
      "source": [
        "#scratch\n",
        "model = Sequential()\n",
        "model.add(Conv2D(filters=16, kernel_size=3, padding='same', activation='relu', input_shape=(224, 224, 3)))\n",
        "model.add(MaxPooling2D(pool_size=2))\n",
        "model.add(Conv2D(filters=32, kernel_size=3, padding='same', activation='relu')\n",
        "model.add(MaxPooling2D(pool_size=2))\n",
        "model.add(Conv2D(filters=64, kernel_size=3, padding='same', activation='relu')\n",
        "model.add(MaxPooling2D(pool_size=2))\n",
        "model.add(Conv2D(filters=128, kernel_size=3,padding='same', activation='relu')\n",
        "model.add(MaxPooling2D(pool_size=2))\n",
        "model.add(Conv2D(filters=256, kernel_size=3, padding='same', activation='relu')\n",
        "model.add(MaxPooling2D(pool_size=2))\n",
        "model.add(GlobalAveragePooling2D())\n",
        "model.add(Dense(133, activation='softmax'))\n",
        "model.summary()"
      ],
      "execution_count": 8,
      "outputs": [
        {
          "output_type": "stream",
          "text": [
            "Model: \"sequential\"\n",
            "_________________________________________________________________\n",
            "Layer (type)                 Output Shape              Param #   \n",
            "=================================================================\n",
            "conv2d (Conv2D)              (None, 224, 224, 16)      448       \n",
            "_________________________________________________________________\n",
            "max_pooling2d (MaxPooling2D) (None, 112, 112, 16)      0         \n",
            "_________________________________________________________________\n",
            "conv2d_1 (Conv2D)            (None, 112, 112, 32)      4640      \n",
            "_________________________________________________________________\n",
            "max_pooling2d_1 (MaxPooling2 (None, 56, 56, 32)        0         \n",
            "_________________________________________________________________\n",
            "conv2d_2 (Conv2D)            (None, 56, 56, 64)        18496     \n",
            "_________________________________________________________________\n",
            "max_pooling2d_2 (MaxPooling2 (None, 28, 28, 64)        0         \n",
            "_________________________________________________________________\n",
            "conv2d_3 (Conv2D)            (None, 28, 28, 128)       73856     \n",
            "_________________________________________________________________\n",
            "max_pooling2d_3 (MaxPooling2 (None, 14, 14, 128)       0         \n",
            "_________________________________________________________________\n",
            "conv2d_4 (Conv2D)            (None, 14, 14, 256)       295168    \n",
            "_________________________________________________________________\n",
            "max_pooling2d_4 (MaxPooling2 (None, 7, 7, 256)         0         \n",
            "_________________________________________________________________\n",
            "global_average_pooling2d (Gl (None, 256)               0         \n",
            "_________________________________________________________________\n",
            "dense (Dense)                (None, 133)               34181     \n",
            "=================================================================\n",
            "Total params: 426,789\n",
            "Trainable params: 426,789\n",
            "Non-trainable params: 0\n",
            "_________________________________________________________________\n"
          ],
          "name": "stdout"
        }
      ]
    },
    {
      "cell_type": "code",
      "metadata": {
        "id": "iWTZNN7GUkVe",
        "outputId": "c37e6a60-12a7-4f10-e3d6-7f6827380f92",
        "colab": {
          "base_uri": "https://localhost:8080/"
        }
      },
      "source": [
        "checkpointer = ModelCheckpoint(filepath='/content/drive/My Drive/scratchWeight.hdf5', verbose=1, save_best_only=True)\n",
        "model.compile(optimizer='rmsprop', loss='categorical_crossentropy', metrics=['accuracy'])\n",
        "model.fit(train_tensors, train_targets, validation_data=(valid_tensors, valid_targets),epochs=50, batch_size=20, callbacks=[checkpointer], verbose=1)\n",
        "dog_breed_predictions = [np.argmax(model.predict(np.expand_dims(tensor, axis=0))) for tensor in test_tensors]\n",
        "test_accuracy = 100*np.sum(np.array(dog_breed_predictions)==np.argmax(test_targets, axis=1))/len(dog_breed_predictions)\n",
        "print('Test accuracy: %.4f%%' % test_accuracy)"
      ],
      "execution_count": 10,
      "outputs": [
        {
          "output_type": "stream",
          "text": [
            "Epoch 1/50\n",
            "334/334 [==============================] - ETA: 0s - loss: 4.8856 - accuracy: 0.0108\n",
            "Epoch 00001: val_loss improved from inf to 4.84295, saving model to /content/drive/My Drive/scratchWeight.hdf5\n",
            "334/334 [==============================] - 404s 1s/step - loss: 4.8856 - accuracy: 0.0108 - val_loss: 4.8430 - val_accuracy: 0.0120\n",
            "Epoch 2/50\n",
            "334/334 [==============================] - ETA: 0s - loss: 4.7754 - accuracy: 0.0219\n",
            "Epoch 00002: val_loss improved from 4.84295 to 4.74752, saving model to /content/drive/My Drive/scratchWeight.hdf5\n",
            "334/334 [==============================] - 402s 1s/step - loss: 4.7754 - accuracy: 0.0219 - val_loss: 4.7475 - val_accuracy: 0.0240\n",
            "Epoch 3/50\n",
            "334/334 [==============================] - ETA: 0s - loss: 4.5686 - accuracy: 0.0347\n",
            "Epoch 00003: val_loss improved from 4.74752 to 4.55398, saving model to /content/drive/My Drive/scratchWeight.hdf5\n",
            "334/334 [==============================] - 399s 1s/step - loss: 4.5686 - accuracy: 0.0347 - val_loss: 4.5540 - val_accuracy: 0.0407\n",
            "Epoch 4/50\n",
            "334/334 [==============================] - ETA: 0s - loss: 4.3108 - accuracy: 0.0540\n",
            "Epoch 00004: val_loss improved from 4.55398 to 4.25781, saving model to /content/drive/My Drive/scratchWeight.hdf5\n",
            "334/334 [==============================] - 402s 1s/step - loss: 4.3108 - accuracy: 0.0540 - val_loss: 4.2578 - val_accuracy: 0.0623\n",
            "Epoch 5/50\n",
            "334/334 [==============================] - ETA: 0s - loss: 4.1185 - accuracy: 0.0795\n",
            "Epoch 00005: val_loss improved from 4.25781 to 4.20564, saving model to /content/drive/My Drive/scratchWeight.hdf5\n",
            "334/334 [==============================] - 401s 1s/step - loss: 4.1185 - accuracy: 0.0795 - val_loss: 4.2056 - val_accuracy: 0.0551\n",
            "Epoch 6/50\n",
            "334/334 [==============================] - ETA: 0s - loss: 3.9326 - accuracy: 0.1015\n",
            "Epoch 00006: val_loss improved from 4.20564 to 3.99231, saving model to /content/drive/My Drive/scratchWeight.hdf5\n",
            "334/334 [==============================] - 408s 1s/step - loss: 3.9326 - accuracy: 0.1015 - val_loss: 3.9923 - val_accuracy: 0.0874\n",
            "Epoch 7/50\n",
            "334/334 [==============================] - ETA: 0s - loss: 3.7699 - accuracy: 0.1222\n",
            "Epoch 00007: val_loss improved from 3.99231 to 3.92516, saving model to /content/drive/My Drive/scratchWeight.hdf5\n",
            "334/334 [==============================] - 405s 1s/step - loss: 3.7699 - accuracy: 0.1222 - val_loss: 3.9252 - val_accuracy: 0.0934\n",
            "Epoch 8/50\n",
            "334/334 [==============================] - ETA: 0s - loss: 3.6286 - accuracy: 0.1407\n",
            "Epoch 00008: val_loss improved from 3.92516 to 3.85392, saving model to /content/drive/My Drive/scratchWeight.hdf5\n",
            "334/334 [==============================] - 399s 1s/step - loss: 3.6286 - accuracy: 0.1407 - val_loss: 3.8539 - val_accuracy: 0.1162\n",
            "Epoch 9/50\n",
            "334/334 [==============================] - ETA: 0s - loss: 3.4691 - accuracy: 0.1698\n",
            "Epoch 00009: val_loss did not improve from 3.85392\n",
            "334/334 [==============================] - 399s 1s/step - loss: 3.4691 - accuracy: 0.1698 - val_loss: 4.0512 - val_accuracy: 0.0958\n",
            "Epoch 10/50\n",
            "334/334 [==============================] - ETA: 0s - loss: 3.2989 - accuracy: 0.1994\n",
            "Epoch 00010: val_loss improved from 3.85392 to 3.56472, saving model to /content/drive/My Drive/scratchWeight.hdf5\n",
            "334/334 [==============================] - 409s 1s/step - loss: 3.2989 - accuracy: 0.1994 - val_loss: 3.5647 - val_accuracy: 0.1533\n",
            "Epoch 11/50\n",
            "334/334 [==============================] - ETA: 0s - loss: 3.1567 - accuracy: 0.2332\n",
            "Epoch 00011: val_loss improved from 3.56472 to 3.50004, saving model to /content/drive/My Drive/scratchWeight.hdf5\n",
            "334/334 [==============================] - 403s 1s/step - loss: 3.1567 - accuracy: 0.2332 - val_loss: 3.5000 - val_accuracy: 0.1808\n",
            "Epoch 12/50\n",
            "334/334 [==============================] - ETA: 0s - loss: 2.9813 - accuracy: 0.2617\n",
            "Epoch 00012: val_loss improved from 3.50004 to 3.44671, saving model to /content/drive/My Drive/scratchWeight.hdf5\n",
            "334/334 [==============================] - 404s 1s/step - loss: 2.9813 - accuracy: 0.2617 - val_loss: 3.4467 - val_accuracy: 0.2012\n",
            "Epoch 13/50\n",
            "334/334 [==============================] - ETA: 0s - loss: 2.8393 - accuracy: 0.2939\n",
            "Epoch 00013: val_loss improved from 3.44671 to 3.44310, saving model to /content/drive/My Drive/scratchWeight.hdf5\n",
            "334/334 [==============================] - 404s 1s/step - loss: 2.8393 - accuracy: 0.2939 - val_loss: 3.4431 - val_accuracy: 0.2000\n",
            "Epoch 14/50\n",
            "334/334 [==============================] - ETA: 0s - loss: 2.6589 - accuracy: 0.3246\n",
            "Epoch 00014: val_loss did not improve from 3.44310\n",
            "334/334 [==============================] - 409s 1s/step - loss: 2.6589 - accuracy: 0.3246 - val_loss: 3.6239 - val_accuracy: 0.1425\n",
            "Epoch 15/50\n",
            "334/334 [==============================] - ETA: 0s - loss: 2.5013 - accuracy: 0.3582\n",
            "Epoch 00015: val_loss did not improve from 3.44310\n",
            "334/334 [==============================] - 410s 1s/step - loss: 2.5013 - accuracy: 0.3582 - val_loss: 3.5975 - val_accuracy: 0.1796\n",
            "Epoch 16/50\n",
            "334/334 [==============================] - ETA: 0s - loss: 2.3586 - accuracy: 0.3913\n",
            "Epoch 00016: val_loss improved from 3.44310 to 3.31054, saving model to /content/drive/My Drive/scratchWeight.hdf5\n",
            "334/334 [==============================] - 405s 1s/step - loss: 2.3586 - accuracy: 0.3913 - val_loss: 3.3105 - val_accuracy: 0.2216\n",
            "Epoch 17/50\n",
            "334/334 [==============================] - ETA: 0s - loss: 2.2014 - accuracy: 0.4314\n",
            "Epoch 00017: val_loss improved from 3.31054 to 3.25740, saving model to /content/drive/My Drive/scratchWeight.hdf5\n",
            "334/334 [==============================] - 404s 1s/step - loss: 2.2014 - accuracy: 0.4314 - val_loss: 3.2574 - val_accuracy: 0.2251\n",
            "Epoch 18/50\n",
            "334/334 [==============================] - ETA: 0s - loss: 2.0261 - accuracy: 0.4662\n",
            "Epoch 00018: val_loss did not improve from 3.25740\n",
            "334/334 [==============================] - 410s 1s/step - loss: 2.0261 - accuracy: 0.4662 - val_loss: 3.6417 - val_accuracy: 0.1653\n",
            "Epoch 19/50\n",
            "334/334 [==============================] - ETA: 0s - loss: 1.8799 - accuracy: 0.5045\n",
            "Epoch 00019: val_loss did not improve from 3.25740\n",
            "334/334 [==============================] - 411s 1s/step - loss: 1.8799 - accuracy: 0.5045 - val_loss: 3.4453 - val_accuracy: 0.2048\n",
            "Epoch 20/50\n",
            "334/334 [==============================] - ETA: 0s - loss: 1.7268 - accuracy: 0.5319\n",
            "Epoch 00020: val_loss did not improve from 3.25740\n",
            "334/334 [==============================] - 405s 1s/step - loss: 1.7268 - accuracy: 0.5319 - val_loss: 3.4517 - val_accuracy: 0.2192\n",
            "Epoch 21/50\n",
            "334/334 [==============================] - ETA: 0s - loss: 1.5860 - accuracy: 0.5669\n",
            "Epoch 00021: val_loss improved from 3.25740 to 3.21619, saving model to /content/drive/My Drive/scratchWeight.hdf5\n",
            "334/334 [==============================] - 406s 1s/step - loss: 1.5860 - accuracy: 0.5669 - val_loss: 3.2162 - val_accuracy: 0.2802\n",
            "Epoch 22/50\n",
            "334/334 [==============================] - ETA: 0s - loss: 1.4362 - accuracy: 0.6093\n",
            "Epoch 00022: val_loss did not improve from 3.21619\n",
            "334/334 [==============================] - 407s 1s/step - loss: 1.4362 - accuracy: 0.6093 - val_loss: 3.7722 - val_accuracy: 0.2431\n",
            "Epoch 23/50\n",
            "334/334 [==============================] - ETA: 0s - loss: 1.3088 - accuracy: 0.6368\n",
            "Epoch 00023: val_loss did not improve from 3.21619\n",
            "334/334 [==============================] - 405s 1s/step - loss: 1.3088 - accuracy: 0.6368 - val_loss: 3.3755 - val_accuracy: 0.2659\n",
            "Epoch 24/50\n",
            "334/334 [==============================] - ETA: 0s - loss: 1.1635 - accuracy: 0.6704\n",
            "Epoch 00024: val_loss did not improve from 3.21619\n",
            "334/334 [==============================] - 408s 1s/step - loss: 1.1635 - accuracy: 0.6704 - val_loss: 3.5732 - val_accuracy: 0.2910\n",
            "Epoch 25/50\n",
            "334/334 [==============================] - ETA: 0s - loss: 1.0389 - accuracy: 0.6996\n",
            "Epoch 00025: val_loss did not improve from 3.21619\n",
            "334/334 [==============================] - 407s 1s/step - loss: 1.0389 - accuracy: 0.6996 - val_loss: 3.8760 - val_accuracy: 0.2695\n",
            "Epoch 26/50\n",
            "334/334 [==============================] - ETA: 0s - loss: 0.9186 - accuracy: 0.7395\n",
            "Epoch 00026: val_loss did not improve from 3.21619\n",
            "334/334 [==============================] - 403s 1s/step - loss: 0.9186 - accuracy: 0.7395 - val_loss: 3.6743 - val_accuracy: 0.2551\n",
            "Epoch 27/50\n",
            "334/334 [==============================] - ETA: 0s - loss: 0.8251 - accuracy: 0.7639\n",
            "Epoch 00027: val_loss did not improve from 3.21619\n",
            "334/334 [==============================] - 405s 1s/step - loss: 0.8251 - accuracy: 0.7639 - val_loss: 3.7408 - val_accuracy: 0.2898\n",
            "Epoch 28/50\n",
            "334/334 [==============================] - ETA: 0s - loss: 0.7497 - accuracy: 0.7817\n",
            "Epoch 00028: val_loss did not improve from 3.21619\n",
            "334/334 [==============================] - 407s 1s/step - loss: 0.7497 - accuracy: 0.7817 - val_loss: 4.8935 - val_accuracy: 0.2659\n",
            "Epoch 29/50\n",
            "334/334 [==============================] - ETA: 0s - loss: 0.6420 - accuracy: 0.8093\n",
            "Epoch 00029: val_loss did not improve from 3.21619\n",
            "334/334 [==============================] - 406s 1s/step - loss: 0.6420 - accuracy: 0.8093 - val_loss: 4.6715 - val_accuracy: 0.2802\n",
            "Epoch 30/50\n",
            "334/334 [==============================] - ETA: 0s - loss: 0.5861 - accuracy: 0.8231\n",
            "Epoch 00030: val_loss did not improve from 3.21619\n",
            "334/334 [==============================] - 410s 1s/step - loss: 0.5861 - accuracy: 0.8231 - val_loss: 4.3776 - val_accuracy: 0.2814\n",
            "Epoch 31/50\n",
            "334/334 [==============================] - ETA: 0s - loss: 0.5426 - accuracy: 0.8413\n",
            "Epoch 00031: val_loss did not improve from 3.21619\n",
            "334/334 [==============================] - 415s 1s/step - loss: 0.5426 - accuracy: 0.8413 - val_loss: 5.1042 - val_accuracy: 0.2898\n",
            "Epoch 32/50\n",
            "334/334 [==============================] - ETA: 0s - loss: 0.4770 - accuracy: 0.8602\n",
            "Epoch 00032: val_loss did not improve from 3.21619\n",
            "334/334 [==============================] - 407s 1s/step - loss: 0.4770 - accuracy: 0.8602 - val_loss: 5.0173 - val_accuracy: 0.3006\n",
            "Epoch 33/50\n",
            "334/334 [==============================] - ETA: 0s - loss: 0.4226 - accuracy: 0.8732\n",
            "Epoch 00033: val_loss did not improve from 3.21619\n",
            "334/334 [==============================] - 409s 1s/step - loss: 0.4226 - accuracy: 0.8732 - val_loss: 5.2683 - val_accuracy: 0.2862\n",
            "Epoch 34/50\n",
            "334/334 [==============================] - ETA: 0s - loss: 0.4058 - accuracy: 0.8817\n",
            "Epoch 00034: val_loss did not improve from 3.21619\n",
            "334/334 [==============================] - 409s 1s/step - loss: 0.4058 - accuracy: 0.8817 - val_loss: 4.7286 - val_accuracy: 0.3186\n",
            "Epoch 35/50\n",
            "334/334 [==============================] - ETA: 0s - loss: 0.4059 - accuracy: 0.8844\n",
            "Epoch 00035: val_loss did not improve from 3.21619\n",
            "334/334 [==============================] - 405s 1s/step - loss: 0.4059 - accuracy: 0.8844 - val_loss: 4.6484 - val_accuracy: 0.3246\n",
            "Epoch 36/50\n",
            "334/334 [==============================] - ETA: 0s - loss: 0.3527 - accuracy: 0.8958\n",
            "Epoch 00036: val_loss did not improve from 3.21619\n",
            "334/334 [==============================] - 405s 1s/step - loss: 0.3527 - accuracy: 0.8958 - val_loss: 4.8681 - val_accuracy: 0.3150\n",
            "Epoch 37/50\n",
            "334/334 [==============================] - ETA: 0s - loss: 0.3511 - accuracy: 0.9000\n",
            "Epoch 00037: val_loss did not improve from 3.21619\n",
            "334/334 [==============================] - 405s 1s/step - loss: 0.3511 - accuracy: 0.9000 - val_loss: 5.2746 - val_accuracy: 0.2898\n",
            "Epoch 38/50\n",
            "334/334 [==============================] - ETA: 0s - loss: 0.3214 - accuracy: 0.9054\n",
            "Epoch 00038: val_loss did not improve from 3.21619\n",
            "334/334 [==============================] - 406s 1s/step - loss: 0.3214 - accuracy: 0.9054 - val_loss: 5.2847 - val_accuracy: 0.3210\n",
            "Epoch 39/50\n",
            "334/334 [==============================] - ETA: 0s - loss: 0.3049 - accuracy: 0.9094\n",
            "Epoch 00039: val_loss did not improve from 3.21619\n",
            "334/334 [==============================] - 406s 1s/step - loss: 0.3049 - accuracy: 0.9094 - val_loss: 5.1488 - val_accuracy: 0.3102\n",
            "Epoch 40/50\n",
            "334/334 [==============================] - ETA: 0s - loss: 0.3133 - accuracy: 0.9148\n",
            "Epoch 00040: val_loss did not improve from 3.21619\n",
            "334/334 [==============================] - 406s 1s/step - loss: 0.3133 - accuracy: 0.9148 - val_loss: 5.5576 - val_accuracy: 0.2778\n",
            "Epoch 41/50\n",
            "334/334 [==============================] - ETA: 0s - loss: 0.3093 - accuracy: 0.9130\n",
            "Epoch 00041: val_loss did not improve from 3.21619\n",
            "334/334 [==============================] - 409s 1s/step - loss: 0.3093 - accuracy: 0.9130 - val_loss: 5.4624 - val_accuracy: 0.3090\n",
            "Epoch 42/50\n",
            "334/334 [==============================] - ETA: 0s - loss: 0.2854 - accuracy: 0.9174\n",
            "Epoch 00042: val_loss did not improve from 3.21619\n",
            "334/334 [==============================] - 413s 1s/step - loss: 0.2854 - accuracy: 0.9174 - val_loss: 6.2127 - val_accuracy: 0.2611\n",
            "Epoch 43/50\n",
            "334/334 [==============================] - ETA: 0s - loss: 0.2972 - accuracy: 0.9195\n",
            "Epoch 00043: val_loss did not improve from 3.21619\n",
            "334/334 [==============================] - 406s 1s/step - loss: 0.2972 - accuracy: 0.9195 - val_loss: 5.8729 - val_accuracy: 0.2754\n",
            "Epoch 44/50\n",
            "334/334 [==============================] - ETA: 0s - loss: 0.2812 - accuracy: 0.9219\n",
            "Epoch 00044: val_loss did not improve from 3.21619\n",
            "334/334 [==============================] - 404s 1s/step - loss: 0.2812 - accuracy: 0.9219 - val_loss: 6.1009 - val_accuracy: 0.3138\n",
            "Epoch 45/50\n",
            "334/334 [==============================] - ETA: 0s - loss: 0.2817 - accuracy: 0.9262\n",
            "Epoch 00045: val_loss did not improve from 3.21619\n",
            "334/334 [==============================] - 405s 1s/step - loss: 0.2817 - accuracy: 0.9262 - val_loss: 5.8598 - val_accuracy: 0.2958\n",
            "Epoch 46/50\n",
            "334/334 [==============================] - ETA: 0s - loss: 0.2557 - accuracy: 0.9275\n",
            "Epoch 00046: val_loss did not improve from 3.21619\n",
            "334/334 [==============================] - 405s 1s/step - loss: 0.2557 - accuracy: 0.9275 - val_loss: 6.8654 - val_accuracy: 0.3150\n",
            "Epoch 47/50\n",
            "334/334 [==============================] - ETA: 0s - loss: 0.2483 - accuracy: 0.9331\n",
            "Epoch 00047: val_loss did not improve from 3.21619\n",
            "334/334 [==============================] - 405s 1s/step - loss: 0.2483 - accuracy: 0.9331 - val_loss: 7.2060 - val_accuracy: 0.3198\n",
            "Epoch 48/50\n",
            "334/334 [==============================] - ETA: 0s - loss: 0.2804 - accuracy: 0.9247\n",
            "Epoch 00048: val_loss did not improve from 3.21619\n",
            "334/334 [==============================] - 406s 1s/step - loss: 0.2804 - accuracy: 0.9247 - val_loss: 7.2981 - val_accuracy: 0.2731\n",
            "Epoch 49/50\n",
            "334/334 [==============================] - ETA: 0s - loss: 0.2581 - accuracy: 0.9290\n",
            "Epoch 00049: val_loss did not improve from 3.21619\n",
            "334/334 [==============================] - 408s 1s/step - loss: 0.2581 - accuracy: 0.9290 - val_loss: 6.3788 - val_accuracy: 0.3222\n",
            "Epoch 50/50\n",
            "334/334 [==============================] - ETA: 0s - loss: 0.2569 - accuracy: 0.9319\n",
            "Epoch 00050: val_loss did not improve from 3.21619\n",
            "334/334 [==============================] - 407s 1s/step - loss: 0.2569 - accuracy: 0.9319 - val_loss: 8.3441 - val_accuracy: 0.2659\n",
            "Test accuracy: 24.8804%\n"
          ],
          "name": "stdout"
        }
      ]
    },
    {
      "cell_type": "code",
      "metadata": {
        "id": "-DDzGLi-U6Sv"
      },
      "source": [
        "xception_bottleneck_features =np.load('/content/drive/My Drive/DogXceptionData.npz')\n",
        "train_Xception = xception_bottleneck_features['train']\n",
        "valid_Xception = xception_bottleneck_features['valid']\n",
        "test_Xception = xception_bottleneck_features['test']"
      ],
      "execution_count": 7,
      "outputs": []
    },
    {
      "cell_type": "code",
      "metadata": {
        "id": "2Aabu1Qqir9D",
        "outputId": "b2f832db-671c-4ecc-94c5-1bc22bb025d1",
        "colab": {
          "base_uri": "https://localhost:8080/"
        }
      },
      "source": [
        "Xception_Model = Sequential()\n",
        "Xception_Model.add(GlobalAveragePooling2D(input_shape=train_Xception.shape[1:]))\n",
        "Xception_Model.add(Dense(133, activation='softmax'))\n",
        "Xception_Model.summary()"
      ],
      "execution_count": 12,
      "outputs": [
        {
          "output_type": "stream",
          "text": [
            "Model: \"sequential_2\"\n",
            "_________________________________________________________________\n",
            "Layer (type)                 Output Shape              Param #   \n",
            "=================================================================\n",
            "global_average_pooling2d_1 ( (None, 2048)              0         \n",
            "_________________________________________________________________\n",
            "dense_1 (Dense)              (None, 133)               272517    \n",
            "=================================================================\n",
            "Total params: 272,517\n",
            "Trainable params: 272,517\n",
            "Non-trainable params: 0\n",
            "_________________________________________________________________\n"
          ],
          "name": "stdout"
        }
      ]
    },
    {
      "cell_type": "code",
      "metadata": {
        "id": "FuQbC9uEOhc2",
        "outputId": "57c16c12-44f9-484d-b3c9-730373a055b9",
        "colab": {
          "base_uri": "https://localhost:8080/"
        }
      },
      "source": [
        "Xception_Model.compile(loss='categorical_crossentropy', optimizer='rmsprop', metrics=['accuracy'])\n",
        "checkpointer = ModelCheckpoint(filepath='/content/drive/My Drive/Xceptionweight.hdf5', verbose=1, save_best_only=True)\n",
        "Xception_Model.fit(train_Xception, train_targets, validation_data=(valid_Xception, valid_targets),epochs=20, batch_size=20, callbacks=[checkpointer], verbose=1)\n",
        "Xception_Model.load_weights('/content/drive/My Drive/Xceptionweight.hdf5')\n",
        "dog_breed_predictions = [np.argmax(Xception_Model.predict(np.expand_dims(tensor, axis=0))) for tensor in test_Xception]\n",
        "test_accuracy = 100*np.sum(np.array(dog_breed_predictions)==np.argmax(test_targets, axis=1))/len(dog_breed_predictions)\n",
        "print('Test accuracy: %.4f%%' % test_accuracy)"
      ],
      "execution_count": 18,
      "outputs": [
        {
          "output_type": "stream",
          "text": [
            "Epoch 1/20\n",
            "331/334 [============================>.] - ETA: 0s - loss: 0.1918 - accuracy: 0.9384\n",
            "Epoch 00001: val_loss improved from inf to 0.55302, saving model to /content/drive/My Drive/Xceptionweight.hdf5\n",
            "334/334 [==============================] - 3s 9ms/step - loss: 0.1930 - accuracy: 0.9385 - val_loss: 0.5530 - val_accuracy: 0.8527\n",
            "Epoch 2/20\n",
            "334/334 [==============================] - ETA: 0s - loss: 0.1677 - accuracy: 0.9501\n",
            "Epoch 00002: val_loss did not improve from 0.55302\n",
            "334/334 [==============================] - 3s 8ms/step - loss: 0.1677 - accuracy: 0.9501 - val_loss: 0.5606 - val_accuracy: 0.8671\n",
            "Epoch 3/20\n",
            "334/334 [==============================] - ETA: 0s - loss: 0.1531 - accuracy: 0.9530\n",
            "Epoch 00003: val_loss did not improve from 0.55302\n",
            "334/334 [==============================] - 3s 8ms/step - loss: 0.1531 - accuracy: 0.9530 - val_loss: 0.5670 - val_accuracy: 0.8563\n",
            "Epoch 4/20\n",
            "332/334 [============================>.] - ETA: 0s - loss: 0.1386 - accuracy: 0.9583\n",
            "Epoch 00004: val_loss did not improve from 0.55302\n",
            "334/334 [==============================] - 3s 8ms/step - loss: 0.1381 - accuracy: 0.9584 - val_loss: 0.5727 - val_accuracy: 0.8539\n",
            "Epoch 5/20\n",
            "333/334 [============================>.] - ETA: 0s - loss: 0.1313 - accuracy: 0.9604\n",
            "Epoch 00005: val_loss did not improve from 0.55302\n",
            "334/334 [==============================] - 3s 9ms/step - loss: 0.1310 - accuracy: 0.9605 - val_loss: 0.5804 - val_accuracy: 0.8659\n",
            "Epoch 6/20\n",
            "328/334 [============================>.] - ETA: 0s - loss: 0.1206 - accuracy: 0.9646\n",
            "Epoch 00006: val_loss did not improve from 0.55302\n",
            "334/334 [==============================] - 3s 9ms/step - loss: 0.1207 - accuracy: 0.9645 - val_loss: 0.5958 - val_accuracy: 0.8611\n",
            "Epoch 7/20\n",
            "333/334 [============================>.] - ETA: 0s - loss: 0.1105 - accuracy: 0.9659\n",
            "Epoch 00007: val_loss did not improve from 0.55302\n",
            "334/334 [==============================] - 3s 9ms/step - loss: 0.1107 - accuracy: 0.9659 - val_loss: 0.6093 - val_accuracy: 0.8611\n",
            "Epoch 8/20\n",
            "329/334 [============================>.] - ETA: 0s - loss: 0.1001 - accuracy: 0.9693\n",
            "Epoch 00008: val_loss did not improve from 0.55302\n",
            "334/334 [==============================] - 3s 8ms/step - loss: 0.0991 - accuracy: 0.9696 - val_loss: 0.6584 - val_accuracy: 0.8599\n",
            "Epoch 9/20\n",
            "329/334 [============================>.] - ETA: 0s - loss: 0.0971 - accuracy: 0.9714\n",
            "Epoch 00009: val_loss did not improve from 0.55302\n",
            "334/334 [==============================] - 3s 8ms/step - loss: 0.0968 - accuracy: 0.9711 - val_loss: 0.6425 - val_accuracy: 0.8587\n",
            "Epoch 10/20\n",
            "334/334 [==============================] - ETA: 0s - loss: 0.0880 - accuracy: 0.9753\n",
            "Epoch 00010: val_loss did not improve from 0.55302\n",
            "334/334 [==============================] - 3s 9ms/step - loss: 0.0880 - accuracy: 0.9753 - val_loss: 0.6590 - val_accuracy: 0.8491\n",
            "Epoch 11/20\n",
            "329/334 [============================>.] - ETA: 0s - loss: 0.0818 - accuracy: 0.9777\n",
            "Epoch 00011: val_loss did not improve from 0.55302\n",
            "334/334 [==============================] - 3s 8ms/step - loss: 0.0844 - accuracy: 0.9772 - val_loss: 0.6641 - val_accuracy: 0.8575\n",
            "Epoch 12/20\n",
            "328/334 [============================>.] - ETA: 0s - loss: 0.0787 - accuracy: 0.9779\n",
            "Epoch 00012: val_loss did not improve from 0.55302\n",
            "334/334 [==============================] - 3s 8ms/step - loss: 0.0781 - accuracy: 0.9781 - val_loss: 0.7216 - val_accuracy: 0.8455\n",
            "Epoch 13/20\n",
            "328/334 [============================>.] - ETA: 0s - loss: 0.0743 - accuracy: 0.9780\n",
            "Epoch 00013: val_loss did not improve from 0.55302\n",
            "334/334 [==============================] - 3s 8ms/step - loss: 0.0779 - accuracy: 0.9777 - val_loss: 0.6688 - val_accuracy: 0.8599\n",
            "Epoch 14/20\n",
            "331/334 [============================>.] - ETA: 0s - loss: 0.0723 - accuracy: 0.9802\n",
            "Epoch 00014: val_loss did not improve from 0.55302\n",
            "334/334 [==============================] - 3s 8ms/step - loss: 0.0721 - accuracy: 0.9802 - val_loss: 0.6753 - val_accuracy: 0.8611\n",
            "Epoch 15/20\n",
            "332/334 [============================>.] - ETA: 0s - loss: 0.0635 - accuracy: 0.9819\n",
            "Epoch 00015: val_loss did not improve from 0.55302\n",
            "334/334 [==============================] - 3s 8ms/step - loss: 0.0637 - accuracy: 0.9819 - val_loss: 0.7284 - val_accuracy: 0.8515\n",
            "Epoch 16/20\n",
            "333/334 [============================>.] - ETA: 0s - loss: 0.0631 - accuracy: 0.9827\n",
            "Epoch 00016: val_loss did not improve from 0.55302\n",
            "334/334 [==============================] - 3s 8ms/step - loss: 0.0629 - accuracy: 0.9828 - val_loss: 0.7153 - val_accuracy: 0.8623\n",
            "Epoch 17/20\n",
            "334/334 [==============================] - ETA: 0s - loss: 0.0604 - accuracy: 0.9823\n",
            "Epoch 00017: val_loss did not improve from 0.55302\n",
            "334/334 [==============================] - 3s 8ms/step - loss: 0.0604 - accuracy: 0.9823 - val_loss: 0.7269 - val_accuracy: 0.8575\n",
            "Epoch 18/20\n",
            "334/334 [==============================] - ETA: 0s - loss: 0.0560 - accuracy: 0.9838\n",
            "Epoch 00018: val_loss did not improve from 0.55302\n",
            "334/334 [==============================] - 3s 8ms/step - loss: 0.0560 - accuracy: 0.9838 - val_loss: 0.7251 - val_accuracy: 0.8683\n",
            "Epoch 19/20\n",
            "329/334 [============================>.] - ETA: 0s - loss: 0.0524 - accuracy: 0.9856\n",
            "Epoch 00019: val_loss did not improve from 0.55302\n",
            "334/334 [==============================] - 3s 9ms/step - loss: 0.0519 - accuracy: 0.9858 - val_loss: 0.7466 - val_accuracy: 0.8575\n",
            "Epoch 20/20\n",
            "331/334 [============================>.] - ETA: 0s - loss: 0.0533 - accuracy: 0.9873\n",
            "Epoch 00020: val_loss did not improve from 0.55302\n",
            "334/334 [==============================] - 3s 8ms/step - loss: 0.0533 - accuracy: 0.9873 - val_loss: 0.7908 - val_accuracy: 0.8575\n",
            "Test accuracy: 84.6890%\n"
          ],
          "name": "stdout"
        }
      ]
    },
    {
      "cell_type": "code",
      "metadata": {
        "id": "atntnPpUlliQ",
        "outputId": "8a848d14-8bd6-409f-eec0-0c833f0ea520",
        "colab": {
          "base_uri": "https://localhost:8080/",
          "height": 1000
        }
      },
      "source": [
        "history = Xception_Model.fit(train_Xception, train_targets, validation_data=(valid_Xception, valid_targets),epochs=20, batch_size=20, callbacks=[checkpointer], verbose=1)\n",
        "print(history.history.keys())\n",
        "plt.plot(history.history['accuracy'])\n",
        "plt.plot(history.history['val_accuracy'])\n",
        "plt.title('model accuracy')\n",
        "plt.ylabel('accuracy')\n",
        "plt.xlabel('epoch')\n",
        "plt.legend(['train', 'test'], loc='upper left')\n",
        "plt.show()\n",
        "plt.plot(history.history['loss'])\n",
        "plt.plot(history.history['val_loss'])\n",
        "plt.title('model loss')\n",
        "plt.ylabel('loss')\n",
        "plt.xlabel('epoch')\n",
        "plt.legend(['train', 'test'], loc='upper left')\n",
        "plt.show()"
      ],
      "execution_count": 22,
      "outputs": [
        {
          "output_type": "stream",
          "text": [
            "Epoch 1/20\n",
            "330/334 [============================>.] - ETA: 0s - loss: 0.0292 - accuracy: 0.9923\n",
            "Epoch 00001: val_loss did not improve from 0.55302\n",
            "334/334 [==============================] - 3s 9ms/step - loss: 0.0290 - accuracy: 0.9924 - val_loss: 0.9322 - val_accuracy: 0.8431\n",
            "Epoch 2/20\n",
            "330/334 [============================>.] - ETA: 0s - loss: 0.0265 - accuracy: 0.9939\n",
            "Epoch 00002: val_loss did not improve from 0.55302\n",
            "334/334 [==============================] - 3s 8ms/step - loss: 0.0262 - accuracy: 0.9940 - val_loss: 0.8938 - val_accuracy: 0.8515\n",
            "Epoch 3/20\n",
            "332/334 [============================>.] - ETA: 0s - loss: 0.0252 - accuracy: 0.9931\n",
            "Epoch 00003: val_loss did not improve from 0.55302\n",
            "334/334 [==============================] - 3s 8ms/step - loss: 0.0250 - accuracy: 0.9931 - val_loss: 0.9081 - val_accuracy: 0.8503\n",
            "Epoch 4/20\n",
            "331/334 [============================>.] - ETA: 0s - loss: 0.0256 - accuracy: 0.9927\n",
            "Epoch 00004: val_loss did not improve from 0.55302\n",
            "334/334 [==============================] - 3s 9ms/step - loss: 0.0254 - accuracy: 0.9928 - val_loss: 0.9509 - val_accuracy: 0.8539\n",
            "Epoch 5/20\n",
            "330/334 [============================>.] - ETA: 0s - loss: 0.0244 - accuracy: 0.9930\n",
            "Epoch 00005: val_loss did not improve from 0.55302\n",
            "334/334 [==============================] - 3s 9ms/step - loss: 0.0241 - accuracy: 0.9931 - val_loss: 0.9464 - val_accuracy: 0.8467\n",
            "Epoch 6/20\n",
            "334/334 [==============================] - ETA: 0s - loss: 0.0235 - accuracy: 0.9937\n",
            "Epoch 00006: val_loss did not improve from 0.55302\n",
            "334/334 [==============================] - 3s 8ms/step - loss: 0.0235 - accuracy: 0.9937 - val_loss: 0.9776 - val_accuracy: 0.8407\n",
            "Epoch 7/20\n",
            "329/334 [============================>.] - ETA: 0s - loss: 0.0226 - accuracy: 0.9945\n",
            "Epoch 00007: val_loss did not improve from 0.55302\n",
            "334/334 [==============================] - 3s 8ms/step - loss: 0.0224 - accuracy: 0.9945 - val_loss: 0.9607 - val_accuracy: 0.8515\n",
            "Epoch 8/20\n",
            "329/334 [============================>.] - ETA: 0s - loss: 0.0227 - accuracy: 0.9941\n",
            "Epoch 00008: val_loss did not improve from 0.55302\n",
            "334/334 [==============================] - 3s 9ms/step - loss: 0.0224 - accuracy: 0.9942 - val_loss: 0.9987 - val_accuracy: 0.8431\n",
            "Epoch 9/20\n",
            "330/334 [============================>.] - ETA: 0s - loss: 0.0212 - accuracy: 0.9947\n",
            "Epoch 00009: val_loss did not improve from 0.55302\n",
            "334/334 [==============================] - 3s 8ms/step - loss: 0.0210 - accuracy: 0.9948 - val_loss: 0.9839 - val_accuracy: 0.8455\n",
            "Epoch 10/20\n",
            "329/334 [============================>.] - ETA: 0s - loss: 0.0211 - accuracy: 0.9942\n",
            "Epoch 00010: val_loss did not improve from 0.55302\n",
            "334/334 [==============================] - 3s 9ms/step - loss: 0.0208 - accuracy: 0.9943 - val_loss: 1.0026 - val_accuracy: 0.8503\n",
            "Epoch 11/20\n",
            "334/334 [==============================] - ETA: 0s - loss: 0.0202 - accuracy: 0.9958\n",
            "Epoch 00011: val_loss did not improve from 0.55302\n",
            "334/334 [==============================] - 3s 9ms/step - loss: 0.0202 - accuracy: 0.9958 - val_loss: 0.9944 - val_accuracy: 0.8455\n",
            "Epoch 12/20\n",
            "333/334 [============================>.] - ETA: 0s - loss: 0.0195 - accuracy: 0.9958\n",
            "Epoch 00012: val_loss did not improve from 0.55302\n",
            "334/334 [==============================] - 3s 8ms/step - loss: 0.0195 - accuracy: 0.9958 - val_loss: 0.9899 - val_accuracy: 0.8479\n",
            "Epoch 13/20\n",
            "333/334 [============================>.] - ETA: 0s - loss: 0.0184 - accuracy: 0.9955\n",
            "Epoch 00013: val_loss did not improve from 0.55302\n",
            "334/334 [==============================] - 3s 9ms/step - loss: 0.0196 - accuracy: 0.9954 - val_loss: 1.0368 - val_accuracy: 0.8491\n",
            "Epoch 14/20\n",
            "331/334 [============================>.] - ETA: 0s - loss: 0.0180 - accuracy: 0.9953\n",
            "Epoch 00014: val_loss did not improve from 0.55302\n",
            "334/334 [==============================] - 3s 9ms/step - loss: 0.0178 - accuracy: 0.9954 - val_loss: 1.0030 - val_accuracy: 0.8479\n",
            "Epoch 15/20\n",
            "331/334 [============================>.] - ETA: 0s - loss: 0.0170 - accuracy: 0.9955\n",
            "Epoch 00015: val_loss did not improve from 0.55302\n",
            "334/334 [==============================] - 3s 9ms/step - loss: 0.0168 - accuracy: 0.9955 - val_loss: 1.0619 - val_accuracy: 0.8515\n",
            "Epoch 16/20\n",
            "334/334 [==============================] - ETA: 0s - loss: 0.0183 - accuracy: 0.9960\n",
            "Epoch 00016: val_loss did not improve from 0.55302\n",
            "334/334 [==============================] - 3s 8ms/step - loss: 0.0183 - accuracy: 0.9960 - val_loss: 1.0427 - val_accuracy: 0.8479\n",
            "Epoch 17/20\n",
            "332/334 [============================>.] - ETA: 0s - loss: 0.0189 - accuracy: 0.9959\n",
            "Epoch 00017: val_loss did not improve from 0.55302\n",
            "334/334 [==============================] - 3s 9ms/step - loss: 0.0188 - accuracy: 0.9960 - val_loss: 1.0648 - val_accuracy: 0.8503\n",
            "Epoch 18/20\n",
            "332/334 [============================>.] - ETA: 0s - loss: 0.0179 - accuracy: 0.9958\n",
            "Epoch 00018: val_loss did not improve from 0.55302\n",
            "334/334 [==============================] - 3s 9ms/step - loss: 0.0178 - accuracy: 0.9958 - val_loss: 1.0640 - val_accuracy: 0.8467\n",
            "Epoch 19/20\n",
            "333/334 [============================>.] - ETA: 0s - loss: 0.0182 - accuracy: 0.9958\n",
            "Epoch 00019: val_loss did not improve from 0.55302\n",
            "334/334 [==============================] - 3s 9ms/step - loss: 0.0181 - accuracy: 0.9958 - val_loss: 1.0499 - val_accuracy: 0.8467\n",
            "Epoch 20/20\n",
            "329/334 [============================>.] - ETA: 0s - loss: 0.0154 - accuracy: 0.9965\n",
            "Epoch 00020: val_loss did not improve from 0.55302\n",
            "334/334 [==============================] - 3s 8ms/step - loss: 0.0159 - accuracy: 0.9963 - val_loss: 1.0639 - val_accuracy: 0.8467\n",
            "dict_keys(['loss', 'accuracy', 'val_loss', 'val_accuracy'])\n"
          ],
          "name": "stdout"
        },
        {
          "output_type": "display_data",
          "data": {
            "image/png": "[encoded data removed]",
            "text/plain": [
              "<Figure size 432x288 with 1 Axes>"
            ]
          },
          "metadata": {
            "tags": [],
            "needs_background": "light"
          }
        },
        {
          "output_type": "display_data",
          "data": {
            "image/png": "[encoded data removed]",
            "text/plain": [
              "<Figure size 432x288 with 1 Axes>"
            ]
          },
          "metadata": {
            "tags": [],
            "needs_background": "light"
          }
        }
      ]
    },
    {
      "cell_type": "code",
      "metadata": {
        "id": "F1L-XtPmOput",
        "outputId": "7306068e-1753-4657-a0e2-76b99f5e3fbe",
        "colab": {
          "base_uri": "https://localhost:8080/"
        }
      },
      "source": [
        "$checkpointer = ModelCheckpoint(filepath='/content/drive/My Drive/scratchWeight.hdf5', verbose=1, save_best_only=True)\n",
        "model.compile(optimizer='rmsprop', loss='categorical_crossentropy', metrics=['accuracy'])\n",
        "model.fit(train_tensors, train_targets, validation_data=(valid_tensors, valid_targets),epochs=50, batch_size=20, callbacks=[checkpointer], verbose=1)\n",
        "dog_breed_predictions = [np.argmax(model.predict(np.expand_dims(tensor, axis=0))) for tensor in test_tensors]\n",
        "test_accuracy = 100*np.sum(np.array(dog_breed_predictions)==np.argmax(test_targets, axis=1))/len(dog_breed_predictions)\n",
        "print('Test accuracy: %.4f%%' % test_accuracy)"
      ],
      "execution_count": 39,
      "outputs": [
        {
          "output_type": "stream",
          "text": [
            "Found 6680 images belonging to 133 classes.\n",
            "Found 835 images belonging to 133 classes.\n"
          ],
          "name": "stdout"
        }
      ]
    },
    {
      "cell_type": "code",
      "metadata": {
        "id": "uvmMX7ZmT6Z_",
        "outputId": "17363571-de0b-423e-c33c-32668c00244a",
        "colab": {
          "base_uri": "https://localhost:8080/",
          "height": 392
        }
      },
      "source": [
        "batch_size = 16 \n",
        "train_datagen = ImageDataGenerator(\n",
        "    preprocessing_function = preprocess_input,\n",
        "    rotation_range = 20,\n",
        "    width_shift_range = 0.2,\n",
        "    height_shift_range = 0.2,\n",
        "    rescale = 1./255,\n",
        "    shear_range = 0.2,\n",
        "    zoom_range = 0.2,\n",
        "    horizontal_flip = True,\n",
        "    fill_mode = 'nearest'\n",
        "    )\n",
        "test_datagen = ImageDataGenerator(\n",
        "    preprocessing_function = preprocess_input,\n",
        "    rescale=1./255\n",
        "    )\n",
        "train_generator = train_datagen.flow_from_directory(\n",
        "    '/content/drive/My Drive/dogImages/train',\n",
        "    target_size = (299, 299),\n",
        "    batch_size = batch_size,\n",
        "    class_mode = 'categorical')\n",
        "validation_generator = test_datagen.flow_from_directory(\n",
        "    '/content/drive/My Drive/dogImages/valid',\n",
        "    target_size = (299, 299),\n",
        "    batch_size = batch_size,\n",
        "    class_mode = 'categorical')"
      ],
      "execution_count": 2,
      "outputs": [
        {
          "output_type": "error",
          "ename": "FileNotFoundError",
          "evalue": "ignored",
          "traceback": [
            "\u001b[0;31m---------------------------------------------------------------------------\u001b[0m",
            "\u001b[0;31mFileNotFoundError\u001b[0m                         Traceback (most recent call last)",
            "\u001b[0;32m<ipython-input-2-ab1d33a24ed6>\u001b[0m in \u001b[0;36m<module>\u001b[0;34m()\u001b[0m\n\u001b[1;32m     19\u001b[0m     \u001b[0mtarget_size\u001b[0m \u001b[0;34m=\u001b[0m \u001b[0;34m(\u001b[0m\u001b[0;36m299\u001b[0m\u001b[0;34m,\u001b[0m \u001b[0;36m299\u001b[0m\u001b[0;34m)\u001b[0m\u001b[0;34m,\u001b[0m\u001b[0;34m\u001b[0m\u001b[0;34m\u001b[0m\u001b[0m\n\u001b[1;32m     20\u001b[0m     \u001b[0mbatch_size\u001b[0m \u001b[0;34m=\u001b[0m \u001b[0mbatch_size\u001b[0m\u001b[0;34m,\u001b[0m\u001b[0;34m\u001b[0m\u001b[0;34m\u001b[0m\u001b[0m\n\u001b[0;32m---> 21\u001b[0;31m     class_mode = 'categorical')\n\u001b[0m\u001b[1;32m     22\u001b[0m validation_generator = test_datagen.flow_from_directory(\n\u001b[1;32m     23\u001b[0m     \u001b[0;34m'/content/drive/My Drive/dogImages/valid'\u001b[0m\u001b[0;34m,\u001b[0m\u001b[0;34m\u001b[0m\u001b[0;34m\u001b[0m\u001b[0m\n",
            "\u001b[0;32m/usr/local/lib/python3.6/dist-packages/tensorflow/python/keras/preprocessing/image.py\u001b[0m in \u001b[0;36mflow_from_directory\u001b[0;34m(self, directory, target_size, color_mode, classes, class_mode, batch_size, shuffle, seed, save_to_dir, save_prefix, save_format, follow_links, subset, interpolation)\u001b[0m\n\u001b[1;32m    957\u001b[0m         \u001b[0mfollow_links\u001b[0m\u001b[0;34m=\u001b[0m\u001b[0mfollow_links\u001b[0m\u001b[0;34m,\u001b[0m\u001b[0;34m\u001b[0m\u001b[0;34m\u001b[0m\u001b[0m\n\u001b[1;32m    958\u001b[0m         \u001b[0msubset\u001b[0m\u001b[0;34m=\u001b[0m\u001b[0msubset\u001b[0m\u001b[0;34m,\u001b[0m\u001b[0;34m\u001b[0m\u001b[0;34m\u001b[0m\u001b[0m\n\u001b[0;32m--> 959\u001b[0;31m         interpolation=interpolation)\n\u001b[0m\u001b[1;32m    960\u001b[0m \u001b[0;34m\u001b[0m\u001b[0m\n\u001b[1;32m    961\u001b[0m   def flow_from_dataframe(self,\n",
            "\u001b[0;32m/usr/local/lib/python3.6/dist-packages/tensorflow/python/keras/preprocessing/image.py\u001b[0m in \u001b[0;36m__init__\u001b[0;34m(self, directory, image_data_generator, target_size, color_mode, classes, class_mode, batch_size, shuffle, seed, data_format, save_to_dir, save_prefix, save_format, follow_links, subset, interpolation, dtype)\u001b[0m\n\u001b[1;32m    395\u001b[0m         \u001b[0msubset\u001b[0m\u001b[0;34m=\u001b[0m\u001b[0msubset\u001b[0m\u001b[0;34m,\u001b[0m\u001b[0;34m\u001b[0m\u001b[0;34m\u001b[0m\u001b[0m\n\u001b[1;32m    396\u001b[0m         \u001b[0minterpolation\u001b[0m\u001b[0;34m=\u001b[0m\u001b[0minterpolation\u001b[0m\u001b[0;34m,\u001b[0m\u001b[0;34m\u001b[0m\u001b[0;34m\u001b[0m\u001b[0m\n\u001b[0;32m--> 397\u001b[0;31m         **kwargs)\n\u001b[0m\u001b[1;32m    398\u001b[0m \u001b[0;34m\u001b[0m\u001b[0m\n\u001b[1;32m    399\u001b[0m \u001b[0;34m\u001b[0m\u001b[0m\n",
            "\u001b[0;32m/usr/local/lib/python3.6/dist-packages/keras_preprocessing/image/directory_iterator.py\u001b[0m in \u001b[0;36m__init__\u001b[0;34m(self, directory, image_data_generator, target_size, color_mode, classes, class_mode, batch_size, shuffle, seed, data_format, save_to_dir, save_prefix, save_format, follow_links, subset, interpolation, dtype)\u001b[0m\n\u001b[1;32m    113\u001b[0m         \u001b[0;32mif\u001b[0m \u001b[0;32mnot\u001b[0m \u001b[0mclasses\u001b[0m\u001b[0;34m:\u001b[0m\u001b[0;34m\u001b[0m\u001b[0;34m\u001b[0m\u001b[0m\n\u001b[1;32m    114\u001b[0m             \u001b[0mclasses\u001b[0m \u001b[0;34m=\u001b[0m \u001b[0;34m[\u001b[0m\u001b[0;34m]\u001b[0m\u001b[0;34m\u001b[0m\u001b[0;34m\u001b[0m\u001b[0m\n\u001b[0;32m--> 115\u001b[0;31m             \u001b[0;32mfor\u001b[0m \u001b[0msubdir\u001b[0m \u001b[0;32min\u001b[0m \u001b[0msorted\u001b[0m\u001b[0;34m(\u001b[0m\u001b[0mos\u001b[0m\u001b[0;34m.\u001b[0m\u001b[0mlistdir\u001b[0m\u001b[0;34m(\u001b[0m\u001b[0mdirectory\u001b[0m\u001b[0;34m)\u001b[0m\u001b[0;34m)\u001b[0m\u001b[0;34m:\u001b[0m\u001b[0;34m\u001b[0m\u001b[0;34m\u001b[0m\u001b[0m\n\u001b[0m\u001b[1;32m    116\u001b[0m                 \u001b[0;32mif\u001b[0m \u001b[0mos\u001b[0m\u001b[0;34m.\u001b[0m\u001b[0mpath\u001b[0m\u001b[0;34m.\u001b[0m\u001b[0misdir\u001b[0m\u001b[0;34m(\u001b[0m\u001b[0mos\u001b[0m\u001b[0;34m.\u001b[0m\u001b[0mpath\u001b[0m\u001b[0;34m.\u001b[0m\u001b[0mjoin\u001b[0m\u001b[0;34m(\u001b[0m\u001b[0mdirectory\u001b[0m\u001b[0;34m,\u001b[0m \u001b[0msubdir\u001b[0m\u001b[0;34m)\u001b[0m\u001b[0;34m)\u001b[0m\u001b[0;34m:\u001b[0m\u001b[0;34m\u001b[0m\u001b[0;34m\u001b[0m\u001b[0m\n\u001b[1;32m    117\u001b[0m                     \u001b[0mclasses\u001b[0m\u001b[0;34m.\u001b[0m\u001b[0mappend\u001b[0m\u001b[0;34m(\u001b[0m\u001b[0msubdir\u001b[0m\u001b[0;34m)\u001b[0m\u001b[0;34m\u001b[0m\u001b[0;34m\u001b[0m\u001b[0m\n",
            "\u001b[0;31mFileNotFoundError\u001b[0m: [Errno 2] No such file or directory: '/content/drive/My Drive/dogImages/train'"
          ]
        }
      ]
    },
    {
      "cell_type": "code",
      "metadata": {
        "id": "2OkXuvcRK0ua"
      },
      "source": [
        ""
      ],
      "execution_count": 56,
      "outputs": []
    },
    {
      "cell_type": "code",
      "metadata": {
        "id": "43ox5wlWIKWM"
      },
      "source": [
        "def load_xception_model_augmented(weights = None):\n",
        "    xception_model_augmented = Sequential()\n",
        "    Xception_cnn_model = Xception(weights='imagenet', include_top=False, input_shape=(299, 299, 3))\n",
        "    model = Sequential()\n",
        "    model.add(GlobalAveragePooling2D(input_shape = Xception_cnn_model.output_shape[1:]))\n",
        "    model.add(Dense(512,activation = 'relu',kernel_regularizer = regularizers.l2(0.01))) #prevent overfitting\n",
        "    model.add(Dropout(0.2))\n",
        "    model.add(Dense(256,activation = 'relu',kernel_regularizer = regularizers.l2(0.01)))\n",
        "    model.add(Dropout(0.2))\n",
        "    model.add(Dense(133, activation='softmax'))\n",
        "    xception_model_augmented.add(Xception_cnn_model)\n",
        "    xception_model_augmented.add(model)\n",
        "    for layer in xception_model_augmented.layers[0].layers: # Freeze base model\n",
        "        layer.trainable = False\n",
        "    xception_model_augmented.compile(loss='categorical_crossentropy',optimizer='adam',metrics=['accuracy'])\n",
        "    if weights is not None:\n",
        "      xception_model_augmented(weights)\n",
        "    return xception_model_augmented"
      ],
      "execution_count": 3,
      "outputs": []
    },
    {
      "cell_type": "code",
      "metadata": {
        "id": "qh3KJK6nVFTB"
      },
      "source": [
        "history = History()\n",
        "checkpointer = ModelCheckpoint('/content/drive/My Drive/xception_augmented_weight_2.hdf5', verbose=1, save_best_only=True)"
      ],
      "execution_count": 4,
      "outputs": []
    },
    {
      "cell_type": "code",
      "metadata": {
        "id": "wXG7AnQQV15F",
        "outputId": "3c3e2f8a-178f-45e8-f6c7-e448dd2d292c",
        "colab": {
          "base_uri": "https://localhost:8080/"
        }
      },
      "source": [
        "xception_model_augmented = load_xception_model_augmented()"
      ],
      "execution_count": 5,
      "outputs": [
        {
          "output_type": "stream",
          "text": [
            "Downloading data from https://storage.googleapis.com/tensorflow/keras-applications/xception/xception_weights_tf_dim_ordering_tf_kernels_notop.h5\n",
            "83689472/83683744 [==============================] - 1s 0us/step\n"
          ],
          "name": "stdout"
        }
      ]
    },
    {
      "cell_type": "code",
      "metadata": {
        "id": "vW_jo0Ro1GIH"
      },
      "source": [
        "xception_model_augmented.load_weights('/content/drive/My Drive/xception_augmented_weight_2.hdf5')"
      ],
      "execution_count": 8,
      "outputs": []
    },
    {
      "cell_type": "code",
      "metadata": {
        "id": "b4LigvrAHCYj",
        "outputId": "23358478-968d-4300-9984-3805b3383fe2",
        "colab": {
          "base_uri": "https://localhost:8080/",
          "height": 312
        }
      },
      "source": [
        "plot_model(xception_model_augmented, to_file='xception_plot.png', show_shapes=True, show_layer_names=True)"
      ],
      "execution_count": 10,
      "outputs": [
        {
          "output_type": "execute_result",
          "data": {
            "image/png": "[encoded data removed]",
            "text/plain": [
              "<IPython.core.display.Image object>"
            ]
          },
          "metadata": {
            "tags": []
          },
          "execution_count": 10
        }
      ]
    },
    {
      "cell_type": "code",
      "metadata": {
        "id": "MZbp_4kQSpmj"
      },
      "source": [
        ""
      ],
      "execution_count": null,
      "outputs": []
    },
    {
      "cell_type": "code",
      "metadata": {
        "id": "hQ3S4XH3So6t",
        "outputId": "799c4a75-4919-4e9b-f333-5cecfeba7669",
        "colab": {
          "base_uri": "https://localhost:8080/"
        }
      },
      "source": [
        "xception_model_augmented.fit(train_generator,steps_per_epoch = 6680 // batch_size,epochs = 10,validation_data = validation_generator,validation_steps = 835 // batch_size,callbacks = [checkpointer, history],verbose=2)"
      ],
      "execution_count": 60,
      "outputs": [
        {
          "output_type": "stream",
          "text": [
            "Epoch 1/10\n",
            "\n",
            "Epoch 00001: val_loss improved from inf to 1.12985, saving model to /content/drive/My Drive/xception_augmented_weight_2.hdf5\n",
            "417/417 - 2291s - loss: 1.3628 - accuracy: 0.7526 - val_loss: 1.1299 - val_accuracy: 0.8113\n",
            "Epoch 2/10\n",
            "\n",
            "Epoch 00002: val_loss did not improve from 1.12985\n",
            "417/417 - 2295s - loss: 1.3245 - accuracy: 0.7658 - val_loss: 1.1466 - val_accuracy: 0.8317\n",
            "Epoch 3/10\n",
            "\n",
            "Epoch 00003: val_loss did not improve from 1.12985\n",
            "417/417 - 2303s - loss: 1.3319 - accuracy: 0.7706 - val_loss: 1.1595 - val_accuracy: 0.8257\n",
            "Epoch 4/10\n",
            "\n",
            "Epoch 00004: val_loss did not improve from 1.12985\n",
            "417/417 - 2296s - loss: 1.3275 - accuracy: 0.7722 - val_loss: 1.2373 - val_accuracy: 0.7921\n",
            "Epoch 5/10\n",
            "\n",
            "Epoch 00005: val_loss improved from 1.12985 to 1.10221, saving model to /content/drive/My Drive/xception_augmented_weight_2.hdf5\n",
            "417/417 - 2317s - loss: 1.3327 - accuracy: 0.7652 - val_loss: 1.1022 - val_accuracy: 0.8353\n",
            "Epoch 6/10\n",
            "\n",
            "Epoch 00006: val_loss did not improve from 1.10221\n",
            "417/417 - 2309s - loss: 1.3005 - accuracy: 0.7716 - val_loss: 1.1570 - val_accuracy: 0.8197\n",
            "Epoch 7/10\n",
            "\n",
            "Epoch 00007: val_loss did not improve from 1.10221\n",
            "417/417 - 2307s - loss: 1.3247 - accuracy: 0.7674 - val_loss: 1.2149 - val_accuracy: 0.8113\n",
            "Epoch 8/10\n",
            "\n",
            "Epoch 00008: val_loss did not improve from 1.10221\n",
            "417/417 - 2312s - loss: 1.3259 - accuracy: 0.7706 - val_loss: 1.1749 - val_accuracy: 0.8089\n",
            "Epoch 9/10\n",
            "\n",
            "Epoch 00009: val_loss did not improve from 1.10221\n",
            "417/417 - 2312s - loss: 1.3207 - accuracy: 0.7709 - val_loss: 1.1109 - val_accuracy: 0.8197\n",
            "Epoch 10/10\n",
            "\n",
            "Epoch 00010: val_loss improved from 1.10221 to 1.09416, saving model to /content/drive/My Drive/xception_augmented_weight_2.hdf5\n",
            "417/417 - 2323s - loss: 1.3118 - accuracy: 0.7667 - val_loss: 1.0942 - val_accuracy: 0.8377\n"
          ],
          "name": "stdout"
        },
        {
          "output_type": "execute_result",
          "data": {
            "text/plain": [
              "<tensorflow.python.keras.callbacks.History at 0x7f0c7d3fef98>"
            ]
          },
          "metadata": {
            "tags": []
          },
          "execution_count": 60
        }
      ]
    },
    {
      "cell_type": "code",
      "metadata": {
        "id": "p4Mbq8O-adSf",
        "outputId": "a34b65ec-ba18-4928-fbc2-69c9ceb08dc0",
        "colab": {
          "base_uri": "https://localhost:8080/"
        }
      },
      "source": [
        "test_generator = test_datagen.flow_from_directory('/content/drive/My Drive/dogImages/test',target_size = (299, 299),batch_size = 1,class_mode = 'categorical',shuffle = False)"
      ],
      "execution_count": 12,
      "outputs": [
        {
          "output_type": "stream",
          "text": [
            "Found 836 images belonging to 133 classes.\n"
          ],
          "name": "stdout"
        }
      ]
    },
    {
      "cell_type": "code",
      "metadata": {
        "id": "NIMkseoXGy6E",
        "outputId": "37cc6d27-d98f-4bb0-b5b1-a3c8da3cbfd5",
        "colab": {
          "base_uri": "https://localhost:8080/"
        }
      },
      "source": [
        "print(classification_report(test_generator.labels, predict, target_names = dog_names))"
      ],
      "execution_count": 14,
      "outputs": [
        {
          "output_type": "stream",
          "text": [
            "                                                            precision    recall  f1-score   support\n",
            "\n",
            "                     ive/dogImages/train/001.Affenpinscher       1.00      0.88      0.93         8\n",
            "                      ive/dogImages/train/002.Afghan_hound       0.88      0.88      0.88         8\n",
            "                  ive/dogImages/train/003.Airedale_terrier       1.00      1.00      1.00         6\n",
            "                             ive/dogImages/train/004.Akita       0.62      1.00      0.76         8\n",
            "                  ive/dogImages/train/005.Alaskan_malamute       0.91      1.00      0.95        10\n",
            "               ive/dogImages/train/006.American_eskimo_dog       1.00      0.75      0.86         8\n",
            "                 ive/dogImages/train/007.American_foxhound       1.00      0.71      0.83         7\n",
            "    ive/dogImages/train/008.American_staffordshire_terrier       1.00      1.00      1.00         8\n",
            "            ive/dogImages/train/009.American_water_spaniel       1.00      0.50      0.67         4\n",
            "            ive/dogImages/train/010.Anatolian_shepherd_dog       0.67      1.00      0.80         6\n",
            "             ive/dogImages/train/011.Australian_cattle_dog       1.00      0.78      0.88         9\n",
            "               ive/dogImages/train/012.Australian_shepherd       1.00      0.78      0.88         9\n",
            "                ive/dogImages/train/013.Australian_terrier       1.00      1.00      1.00         6\n",
            "                           ive/dogImages/train/014.Basenji       0.89      0.89      0.89         9\n",
            "                      ive/dogImages/train/015.Basset_hound       1.00      1.00      1.00        10\n",
            "                            ive/dogImages/train/016.Beagle       0.73      1.00      0.84         8\n",
            "                    ive/dogImages/train/017.Bearded_collie       0.78      0.88      0.82         8\n",
            "                         ive/dogImages/train/018.Beauceron       1.00      1.00      1.00         7\n",
            "                ive/dogImages/train/019.Bedlington_terrier       1.00      1.00      1.00         6\n",
            "                  ive/dogImages/train/020.Belgian_malinois       0.88      0.88      0.88         8\n",
            "                  ive/dogImages/train/021.Belgian_sheepdog       1.00      0.75      0.86         8\n",
            "                  ive/dogImages/train/022.Belgian_tervuren       0.75      1.00      0.86         6\n",
            "              ive/dogImages/train/023.Bernese_mountain_dog       1.00      1.00      1.00         8\n",
            "                      ive/dogImages/train/024.Bichon_frise       0.89      1.00      0.94         8\n",
            "           ive/dogImages/train/025.Black_and_tan_coonhound       1.00      1.00      1.00         4\n",
            "             ive/dogImages/train/026.Black_russian_terrier       0.75      0.60      0.67         5\n",
            "                        ive/dogImages/train/027.Bloodhound       0.89      1.00      0.94         8\n",
            "                ive/dogImages/train/028.Bluetick_coonhound       1.00      0.75      0.86         4\n",
            "                     ive/dogImages/train/029.Border_collie       1.00      1.00      1.00        10\n",
            "                    ive/dogImages/train/030.Border_terrier       1.00      1.00      1.00         7\n",
            "                            ive/dogImages/train/031.Borzoi       0.88      1.00      0.93         7\n",
            "                    ive/dogImages/train/032.Boston_terrier       1.00      1.00      1.00         8\n",
            "              ive/dogImages/train/033.Bouvier_des_flandres       0.57      0.80      0.67         5\n",
            "                             ive/dogImages/train/034.Boxer       0.89      1.00      0.94         8\n",
            "                    ive/dogImages/train/035.Boykin_spaniel       0.57      0.67      0.62         6\n",
            "                            ive/dogImages/train/036.Briard       1.00      0.88      0.93         8\n",
            "                          ive/dogImages/train/037.Brittany       1.00      0.83      0.91         6\n",
            "                  ive/dogImages/train/038.Brussels_griffon       1.00      1.00      1.00         7\n",
            "                      ive/dogImages/train/039.Bull_terrier       1.00      1.00      1.00         9\n",
            "                           ive/dogImages/train/040.Bulldog       0.88      1.00      0.93         7\n",
            "                       ive/dogImages/train/041.Bullmastiff       0.80      0.89      0.84         9\n",
            "                     ive/dogImages/train/042.Cairn_terrier       1.00      1.00      1.00         8\n",
            "                        ive/dogImages/train/043.Canaan_dog       0.56      0.83      0.67         6\n",
            "                        ive/dogImages/train/044.Cane_corso       0.55      0.75      0.63         8\n",
            "              ive/dogImages/train/045.Cardigan_welsh_corgi       0.56      0.71      0.63         7\n",
            "     ive/dogImages/train/046.Cavalier_king_charles_spaniel       0.64      0.78      0.70         9\n",
            "          ive/dogImages/train/047.Chesapeake_bay_retriever       0.88      1.00      0.93         7\n",
            "                         ive/dogImages/train/048.Chihuahua       0.88      1.00      0.93         7\n",
            "                   ive/dogImages/train/049.Chinese_crested       1.00      0.83      0.91         6\n",
            "                  ive/dogImages/train/050.Chinese_shar-pei       0.86      1.00      0.92         6\n",
            "                         ive/dogImages/train/051.Chow_chow       1.00      1.00      1.00         8\n",
            "                   ive/dogImages/train/052.Clumber_spaniel       1.00      1.00      1.00         6\n",
            "                    ive/dogImages/train/053.Cocker_spaniel       0.55      1.00      0.71         6\n",
            "                            ive/dogImages/train/054.Collie       1.00      0.86      0.92         7\n",
            "            ive/dogImages/train/055.Curly-coated_retriever       0.64      1.00      0.78         7\n",
            "                         ive/dogImages/train/056.Dachshund       1.00      0.56      0.71         9\n",
            "                         ive/dogImages/train/057.Dalmatian       1.00      0.89      0.94         9\n",
            "            ive/dogImages/train/058.Dandie_dinmont_terrier       1.00      1.00      1.00         7\n",
            "                 ive/dogImages/train/059.Doberman_pinscher       0.62      0.83      0.71         6\n",
            "                 ive/dogImages/train/060.Dogue_de_bordeaux       1.00      0.50      0.67         8\n",
            "            ive/dogImages/train/061.English_cocker_spaniel       1.00      0.25      0.40         8\n",
            "                    ive/dogImages/train/062.English_setter       1.00      0.83      0.91         6\n",
            "          ive/dogImages/train/063.English_springer_spaniel       0.86      0.86      0.86         7\n",
            "               ive/dogImages/train/064.English_toy_spaniel       1.00      0.40      0.57         5\n",
            "          ive/dogImages/train/065.Entlebucher_mountain_dog       1.00      1.00      1.00         5\n",
            "                     ive/dogImages/train/066.Field_spaniel       1.00      0.50      0.67         4\n",
            "                     ive/dogImages/train/067.Finnish_spitz       1.00      0.75      0.86         4\n",
            "             ive/dogImages/train/068.Flat-coated_retriever       1.00      0.88      0.93         8\n",
            "                    ive/dogImages/train/069.French_bulldog       1.00      1.00      1.00         7\n",
            "                   ive/dogImages/train/070.German_pinscher       0.50      0.17      0.25         6\n",
            "               ive/dogImages/train/071.German_shepherd_dog       0.88      0.88      0.88         8\n",
            "        ive/dogImages/train/072.German_shorthaired_pointer       0.56      0.83      0.67         6\n",
            "         ive/dogImages/train/073.German_wirehaired_pointer       0.80      0.80      0.80         5\n",
            "                   ive/dogImages/train/074.Giant_schnauzer       0.60      0.60      0.60         5\n",
            "             ive/dogImages/train/075.Glen_of_imaal_terrier       1.00      0.80      0.89         5\n",
            "                  ive/dogImages/train/076.Golden_retriever       0.88      0.88      0.88         8\n",
            "                     ive/dogImages/train/077.Gordon_setter       0.62      1.00      0.77         5\n",
            "                        ive/dogImages/train/078.Great_dane       1.00      0.40      0.57         5\n",
            "                    ive/dogImages/train/079.Great_pyrenees       0.86      0.75      0.80         8\n",
            "        ive/dogImages/train/080.Greater_swiss_mountain_dog       1.00      1.00      1.00         5\n",
            "                         ive/dogImages/train/081.Greyhound       1.00      0.86      0.92         7\n",
            "                          ive/dogImages/train/082.Havanese       0.71      0.62      0.67         8\n",
            "                      ive/dogImages/train/083.Ibizan_hound       1.00      1.00      1.00         6\n",
            "                ive/dogImages/train/084.Icelandic_sheepdog       0.83      0.83      0.83         6\n",
            "        ive/dogImages/train/085.Irish_red_and_white_setter       0.33      0.25      0.29         4\n",
            "                      ive/dogImages/train/086.Irish_setter       0.78      1.00      0.88         7\n",
            "                     ive/dogImages/train/087.Irish_terrier       0.73      1.00      0.84         8\n",
            "               ive/dogImages/train/088.Irish_water_spaniel       0.62      0.83      0.71         6\n",
            "                   ive/dogImages/train/089.Irish_wolfhound       0.78      1.00      0.88         7\n",
            "                 ive/dogImages/train/090.Italian_greyhound       0.64      0.88      0.74         8\n",
            "                     ive/dogImages/train/091.Japanese_chin       1.00      0.71      0.83         7\n",
            "                          ive/dogImages/train/092.Keeshond       1.00      1.00      1.00         5\n",
            "                ive/dogImages/train/093.Kerry_blue_terrier       0.75      0.75      0.75         4\n",
            "                          ive/dogImages/train/094.Komondor       1.00      1.00      1.00         5\n",
            "                            ive/dogImages/train/095.Kuvasz       0.83      0.83      0.83         6\n",
            "                ive/dogImages/train/096.Labrador_retriever       1.00      0.20      0.33         5\n",
            "                  ive/dogImages/train/097.Lakeland_terrier       1.00      0.50      0.67         6\n",
            "                        ive/dogImages/train/098.Leonberger       0.83      1.00      0.91         5\n",
            "                        ive/dogImages/train/099.Lhasa_apso       0.67      0.80      0.73         5\n",
            "                           ive/dogImages/train/100.Lowchen       0.00      0.00      0.00         4\n",
            "                           ive/dogImages/train/101.Maltese       1.00      0.83      0.91         6\n",
            "                ive/dogImages/train/102.Manchester_terrier       0.50      0.67      0.57         3\n",
            "                           ive/dogImages/train/103.Mastiff       0.75      0.86      0.80         7\n",
            "               ive/dogImages/train/104.Miniature_schnauzer       0.83      1.00      0.91         5\n",
            "                ive/dogImages/train/105.Neapolitan_mastiff       1.00      0.50      0.67         4\n",
            "                      ive/dogImages/train/106.Newfoundland       1.00      1.00      1.00         6\n",
            "                   ive/dogImages/train/107.Norfolk_terrier       0.83      0.83      0.83         6\n",
            "                  ive/dogImages/train/108.Norwegian_buhund       0.00      0.00      0.00         3\n",
            "                ive/dogImages/train/109.Norwegian_elkhound       0.67      0.80      0.73         5\n",
            "               ive/dogImages/train/110.Norwegian_lundehund       0.60      0.75      0.67         4\n",
            "                   ive/dogImages/train/111.Norwich_terrier       1.00      1.00      1.00         5\n",
            "ive/dogImages/train/112.Nova_scotia_duck_tolling_retriever       0.88      1.00      0.93         7\n",
            "              ive/dogImages/train/113.Old_english_sheepdog       0.80      0.80      0.80         5\n",
            "                        ive/dogImages/train/114.Otterhound       0.75      0.75      0.75         4\n",
            "                          ive/dogImages/train/115.Papillon       1.00      1.00      1.00         8\n",
            "            ive/dogImages/train/116.Parson_russell_terrier       1.00      0.50      0.67         4\n",
            "                         ive/dogImages/train/117.Pekingese       0.75      1.00      0.86         6\n",
            "              ive/dogImages/train/118.Pembroke_welsh_corgi       0.50      0.43      0.46         7\n",
            "      ive/dogImages/train/119.Petit_basset_griffon_vendeen       0.80      1.00      0.89         4\n",
            "                     ive/dogImages/train/120.Pharaoh_hound       0.83      1.00      0.91         5\n",
            "                             ive/dogImages/train/121.Plott       0.67      0.67      0.67         3\n",
            "                           ive/dogImages/train/122.Pointer       0.67      0.50      0.57         4\n",
            "                        ive/dogImages/train/123.Pomeranian       1.00      1.00      1.00         5\n",
            "                            ive/dogImages/train/124.Poodle       0.71      0.83      0.77         6\n",
            "              ive/dogImages/train/125.Portuguese_water_dog       0.67      0.50      0.57         4\n",
            "                     ive/dogImages/train/126.Saint_bernard       0.75      1.00      0.86         3\n",
            "                     ive/dogImages/train/127.Silky_terrier       1.00      0.20      0.33         5\n",
            "                ive/dogImages/train/128.Smooth_fox_terrier       0.67      0.50      0.57         4\n",
            "                   ive/dogImages/train/129.Tibetan_mastiff       1.00      0.83      0.91         6\n",
            "            ive/dogImages/train/130.Welsh_springer_spaniel       0.60      0.60      0.60         5\n",
            "       ive/dogImages/train/131.Wirehaired_pointing_griffon       0.50      0.67      0.57         3\n",
            "                    ive/dogImages/train/132.Xoloitzcuintli       1.00      1.00      1.00         3\n",
            "                 ive/dogImages/train/133.Yorkshire_terrier       0.57      1.00      0.73         4\n",
            "\n",
            "                                                  accuracy                           0.83       836\n",
            "                                                 macro avg       0.84      0.81      0.81       836\n",
            "                                              weighted avg       0.85      0.83      0.83       836\n",
            "\n"
          ],
          "name": "stdout"
        },
        {
          "output_type": "stream",
          "text": [
            "/usr/local/lib/python3.6/dist-packages/sklearn/metrics/_classification.py:1272: UndefinedMetricWarning: Precision and F-score are ill-defined and being set to 0.0 in labels with no predicted samples. Use `zero_division` parameter to control this behavior.\n",
            "  _warn_prf(average, modifier, msg_start, len(result))\n"
          ],
          "name": "stderr"
        }
      ]
    },
    {
      "cell_type": "code",
      "metadata": {
        "id": "UND4tyViEPWg"
      },
      "source": [
        ""
      ],
      "execution_count": null,
      "outputs": []
    },
    {
      "cell_type": "code",
      "metadata": {
        "id": "ItccuoBcdYEi"
      },
      "source": [
        "dog_names = [item[20:-1] for item in sorted(glob(\"/content/drive/My Drive/dogImages/train/*/\"))]\n",
        "def predict_xception(final_model, img_path):\n",
        "    img = load_img(img_path, target_size = (299, 299))\n",
        "    x = img_to_array(img)\n",
        "    x = np.expand_dims(x, axis = 0)\n",
        "    y = preprocess_input(x)/255\n",
        "    predicted_vector = final_model.predict(y)\n",
        "    results = sorted(enumerate(predicted_vector[0]), reverse=True, key=lambda x:x[1])\n",
        "    classes_ind = [x[0] for x in results]\n",
        "    ans = [dog_names[x] for x in classes_ind][0]\n",
        "    return ans"
      ],
      "execution_count": 15,
      "outputs": []
    },
    {
      "cell_type": "code",
      "metadata": {
        "id": "-kDfexRcdvh7",
        "outputId": "911dd960-0bb6-4995-fd76-32c10dd68a7b",
        "colab": {
          "base_uri": "https://localhost:8080/",
          "height": 37
        }
      },
      "source": [
        "predict_xception(xception_model_augmented, '/content/drive/My Drive/Great_Pyrenees_Mountain_Dog.jpg')"
      ],
      "execution_count": 16,
      "outputs": [
        {
          "output_type": "execute_result",
          "data": {
            "application/vnd.google.colaboratory.intrinsic+json": {
              "type": "string"
            },
            "text/plain": [
              "'ive/dogImages/train/079.Great_pyrenees'"
            ]
          },
          "metadata": {
            "tags": []
          },
          "execution_count": 16
        }
      ]
    },
    {
      "cell_type": "code",
      "metadata": {
        "id": "lEw9U7zYfH-n",
        "outputId": "41099912-4818-42fa-c45d-4ec878173182",
        "colab": {
          "base_uri": "https://localhost:8080/",
          "height": 37
        }
      },
      "source": [
        "predict_xception(xception_model_augmented, '/content/drive/My Drive/yorkshire-terrier.jpg')"
      ],
      "execution_count": 17,
      "outputs": [
        {
          "output_type": "execute_result",
          "data": {
            "application/vnd.google.colaboratory.intrinsic+json": {
              "type": "string"
            },
            "text/plain": [
              "'ive/dogImages/train/133.Yorkshire_terrier'"
            ]
          },
          "metadata": {
            "tags": []
          },
          "execution_count": 17
        }
      ]
    },
    {
      "cell_type": "code",
      "metadata": {
        "id": "KKiCTkOt0uqS",
        "outputId": "7de3818a-c3c6-4bc6-8d37-441ed0de76d3",
        "colab": {
          "base_uri": "https://localhost:8080/",
          "height": 37
        }
      },
      "source": [
        "predict_xception(xception_model_augmented, '/content/drive/My Drive/Manchester-Terrier.jpg')"
      ],
      "execution_count": 18,
      "outputs": [
        {
          "output_type": "execute_result",
          "data": {
            "application/vnd.google.colaboratory.intrinsic+json": {
              "type": "string"
            },
            "text/plain": [
              "'ive/dogImages/train/102.Manchester_terrier'"
            ]
          },
          "metadata": {
            "tags": []
          },
          "execution_count": 18
        }
      ]
    },
    {
      "cell_type": "code",
      "metadata": {
        "id": "EICPt7IV11Dw"
      },
      "source": [
        ""
      ],
      "execution_count": null,
      "outputs": []
    }
  ]
}